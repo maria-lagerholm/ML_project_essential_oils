{
 "cells": [
  {
   "cell_type": "code",
   "execution_count": 63,
   "id": "c1b8729f-4616-4571-a7c8-86eadda973af",
   "metadata": {},
   "outputs": [
    {
     "name": "stdout",
     "output_type": "stream",
     "text": [
      "Columns from /Users/mariiakokina/Documents/eo_database/chemical_composition/updated_matched_plants_10%.csv: 0 to 137\n",
      "Columns from /Users/mariiakokina/Documents/eo_database/chemical_composition/plants_with_fingerprints_updated.csv: 138 to 274\n",
      "Columns from /Users/mariiakokina/Documents/eo_database/chemical_composition/Salmonella.csv: 275 to 276\n"
     ]
    }
   ],
   "source": [
    "import pandas as pd\n",
    "\n",
    "# Define the file paths\n",
    "file1_path = '/Users/mariiakokina/Documents/eo_database/chemical_composition/updated_matched_plants_10%.csv'\n",
    "file2_path = '/Users/mariiakokina/Documents/eo_database/chemical_composition/plants_with_fingerprints_updated.csv'\n",
    "file3_path = '/Users/mariiakokina/Documents/eo_database/chemical_composition/Salmonella.csv'\n",
    "\n",
    "# Read the CSV files\n",
    "df1 = pd.read_csv(file1_path)\n",
    "df2 = pd.read_csv(file2_path)\n",
    "df3 = pd.read_csv(file3_path)\n",
    "\n",
    "# Calculate the starting index for each DataFrame's columns in the concatenated result\n",
    "start_index_df2 = len(df1.columns)  # Start index for df2 columns in the concatenated DataFrame\n",
    "start_index_df3 = start_index_df2 + len(df2.columns) - 1  # Start index for df3 columns, accounting for dropped 'Plant_Species'\n",
    "\n",
    "# Concatenate the DataFrames side by side\n",
    "result = pd.concat([df1, df2.drop('Plant_Species', axis=1), df3.drop('Plant_Species', axis=1)], axis=1)\n",
    "\n",
    "# Save the concatenated DataFrame to a new CSV file\n",
    "result.to_csv('concatenated_data.csv', index=False)  \n",
    "\n",
    "# Print out the column index ranges for each file\n",
    "print(f\"Columns from {file1_path}: 0 to {len(df1.columns)-1}\")\n",
    "print(f\"Columns from {file2_path}: {start_index_df2} to {start_index_df2 + len(df2.columns) - 2}\")  # -2 accounts for dropped 'Plant_Species' and 0-indexing\n",
    "print(f\"Columns from {file3_path}: {start_index_df3} to {start_index_df3 + len(df3.columns) - 2}\")  # Same adjustments as above\n"
   ]
  },
  {
   "cell_type": "code",
   "execution_count": null,
   "id": "168bbce6",
   "metadata": {},
   "outputs": [],
   "source": []
  },
  {
   "cell_type": "code",
   "execution_count": 66,
   "id": "7e676c9a-edbd-4eca-8821-0455649764c6",
   "metadata": {},
   "outputs": [
    {
     "name": "stdout",
     "output_type": "stream",
     "text": [
      "Value of the first cell in the last column ('Limonene_fingerprint'): 00000000000000000000000000000000000000000000000000000000000000000001000000000000000000000100000000000000000000000000000000000000000000000000000000000000000000001000000000000000000000000000000000000000000000000000000000000000000000000000000000000000000000000000000000000000000000000000000000000000000000000000000000000000000000000000000000000000000000000000000000000000000000000000000000000000000000000000000000000000000000000000000000000000000000000000000000000000000000000000000000000000000000000000000000000000000000000000000000000000000000000000000000000000000000000000000000000000000000000000001000000000000000000000000000000000000000000000000000000000000000000000000000000000000000000000000000000000000000000000000000000000000000000000000000000000000000000000000000000000000000000000000000000000000000010000000000000000000000000001000000000000000000000000000000000000100000000000000000000000000000000000000000000000000000100000000000000000000000000000000000000000000000100000000000000000000000000000000000000000010100100000000000000000000000000000000001000000000000000000000000000000000000000000000000000000000000000000000000000000000000000000000000000000000000000000000000000000000000000000000000000000000000000000000000000000000000000000000000000000000000000000000000000000000000000000000000000000000000000000000000000100000000000000000000000000000000000000001000000000000010000000000000000000000000000000000000000000000000000000000000000000000000000000000000000000000000000000000000000000000000000000000000000000000000000000000000000000000000000000000000000000000000000001000000000000000000000000000000000000000000000000000000000000000000000000000000000000000000000000000000000000000000000000000000000000000000000010000000000000001000000000000000000000000000000000000000000100100000000000000000000000000000000000000000000000000000000000000000000000000000000000000001000000000000000000000000000000000000000000000000000000000000000000000000000000000000000000000000000000000100000000000000000000000000000000000000000000000000000000000000001000\n"
     ]
    }
   ],
   "source": [
    "import pandas as pd\n",
    "\n",
    "# Define the path to the concatenated dataset\n",
    "concatenated_data_path = 'concatenated_data.csv' \n",
    "\n",
    "# Read the concatenated dataset with header\n",
    "df = pd.read_csv(concatenated_data_path)\n",
    "\n",
    "# Get the name of the last column\n",
    "last_column_name = df.columns[138]\n",
    "\n",
    "# Access the value of the first cell in the last column\n",
    "first_cell_value = df[last_column_name].iloc[0]\n",
    "\n",
    "print(\"Value of the first cell in the last column ('{}'): {}\".format(last_column_name, first_cell_value))\n"
   ]
  },
  {
   "cell_type": "code",
   "execution_count": 65,
   "id": "b7bd89db-8685-4dcd-af37-17ebfd8d7454",
   "metadata": {},
   "outputs": [
    {
     "name": "stdout",
     "output_type": "stream",
     "text": [
      "Concentration Data: Columns 1 to 137\n",
      "Fingerprint Data: Columns 138 to 274\n",
      "Labeled Antimicrobial Activity Data: Column 275\n"
     ]
    }
   ],
   "source": [
    "import pandas as pd\n",
    "\n",
    "# Define the path to the concatenated dataset\n",
    "concatenated_data_path = 'concatenated_data.csv'\n",
    "\n",
    "# Read the concatenated dataset with header\n",
    "df = pd.read_csv(concatenated_data_path)\n",
    "\n",
    "# Get the column names\n",
    "column_names = df.columns.tolist()\n",
    "\n",
    "# Find the index where 'Fingerprint' appears (assumes 'Fingerprint' is in the column name)\n",
    "fingerprint_start_index = column_names.index('Limonene_fingerprint')\n",
    "fingerprint_end_index = fingerprint_start_index + 136  # Adjust if the range of fingerprint data is different\n",
    "\n",
    "# Find the index where 'Salmonella Typhimurium' appears\n",
    "activity_column_name = 'Salmonella Typhimurium'  \n",
    "activity_start_index = column_names.index(activity_column_name)\n",
    "\n",
    "# Concentration data starts at index 1 ( 'Plant_Species' is at index 0)\n",
    "concentration_start_index = 1\n",
    "concentration_end_index = fingerprint_start_index - 1  # Just before the fingerprint data\n",
    "\n",
    "# Print the results\n",
    "print(\"Concentration Data: Columns {} to {}\".format(concentration_start_index, concentration_end_index))\n",
    "print(\"Fingerprint Data: Columns {} to {}\".format(fingerprint_start_index, fingerprint_end_index))\n",
    "print(\"Labeled Antimicrobial Activity Data: Column {}\".format(activity_start_index))\n"
   ]
  },
  {
   "cell_type": "code",
   "execution_count": 67,
   "id": "ac1422ae-047e-4ae2-b373-65f47b22058c",
   "metadata": {},
   "outputs": [
    {
     "name": "stdout",
     "output_type": "stream",
     "text": [
      "Reorganized data for all plants with concentrations, fingerprints, and references saved to reorganized_plants.csv\n"
     ]
    }
   ],
   "source": [
    "import pandas as pd\n",
    "\n",
    "# Define file path for the dataset\n",
    "file_path = 'concatenated_data.csv'  \n",
    "\n",
    "# Load dataset\n",
    "data = pd.read_csv(file_path)\n",
    "\n",
    "# Initialize a list to hold all reorganized data\n",
    "all_reorganized_data = []\n",
    "\n",
    "# Iterate over all plants (rows) in the dataset\n",
    "for i in range(len(data)):\n",
    "    # Extract the row for the current plant\n",
    "    plant = data.iloc[i]\n",
    "\n",
    "    # Define the range for chemical names, fingerprint data, and classification data\n",
    "    chemical_names = data.columns[1:137] #index range for \"Chemical Data\"\n",
    "    fingerprint_data = plant[138:274]  # Fingerprints for the current plant\n",
    "    classification_data_column = 'Salmonella Typhimurium' \n",
    "\n",
    "    # Extract the 'References' data for the current plant\n",
    "    references_data = plant['Reference']  \n",
    "\n",
    "    # Prepare lists for each column in the new DataFrame\n",
    "    plant_species_list = [plant['Plant_Species']] * len(chemical_names)\n",
    "    chemical_list = chemical_names.tolist()\n",
    "    concentration_list = plant[1:137].tolist()  # Adjust range for \"Concentration Data\"\n",
    "    fingerprint_list = fingerprint_data.tolist()\n",
    "    classification_list = [plant[classification_data_column]] * len(chemical_names)\n",
    "    references_list = [references_data] * len(chemical_names)  # Replicate the references for each chemical\n",
    "\n",
    "    # Prepare data for all columns in a dictionary\n",
    "    data_dict = {\n",
    "        'Plant_Species': plant_species_list,\n",
    "        'Chemical': chemical_list,\n",
    "        'Concentration': concentration_list,\n",
    "        'Fingerprints': fingerprint_list,\n",
    "        'Salmonella Typhimurium': classification_list,\n",
    "        'Reference': references_list\n",
    "    }\n",
    "\n",
    "    # Construct the DataFrame from the dictionary\n",
    "    reorganized_data = pd.DataFrame(data_dict)\n",
    "\n",
    "    # Remove rows where the concentration is 0.0\n",
    "    reorganized_data = reorganized_data.loc[reorganized_data['Concentration'] != 0.0]\n",
    "\n",
    "    # Append the reorganized data for the current plant to the all_reorganized_data list\n",
    "    all_reorganized_data.append(reorganized_data)\n",
    "\n",
    "# Concatenate all reorganized data into a single DataFrame\n",
    "all_reorganized_data = pd.concat(all_reorganized_data, ignore_index=True)\n",
    "\n",
    "# Define the output file path\n",
    "output_file_path = \"reorganized_plants.csv\"\n",
    "\n",
    "# Save the reorganized data to a new CSV file\n",
    "all_reorganized_data.to_csv(output_file_path, index=False)\n",
    "\n",
    "print(f\"Reorganized data for all plants with concentrations, fingerprints, and references saved to {output_file_path}\")\n"
   ]
  },
  {
   "cell_type": "code",
   "execution_count": null,
   "id": "e363b736",
   "metadata": {},
   "outputs": [],
   "source": []
  },
  {
   "cell_type": "code",
   "execution_count": 68,
   "id": "b7b3b001-da8e-4ee4-9cfa-417938fad36c",
   "metadata": {},
   "outputs": [
    {
     "name": "stdout",
     "output_type": "stream",
     "text": [
      "Updated data for all plants with expanded fingerprints and SMILES saved to reorganized_plants_smiles.csv\n"
     ]
    }
   ],
   "source": [
    "import pandas as pd\n",
    "import re  # Import regular expressions library\n",
    "\n",
    "# Function to extract the core chemical name (excluding parentheses)\n",
    "def extract_core_name(text):\n",
    "    return re.sub(r'\\s*\\([^)]*\\)', '', text).strip().lower()\n",
    "\n",
    "# Define file paths for the datasets\n",
    "data_path = 'reorganized_plants.csv'\n",
    "chemicals_path = '/Users/mariiakokina/Documents/eo_database/initial_data/combined_chemicals_smiles.csv'\n",
    "\n",
    "# Load the datasets\n",
    "data = pd.read_csv(data_path)\n",
    "chemicals = pd.read_csv(chemicals_path)\n",
    "\n",
    "# Apply the function to clean chemical names in both datasets if needed\n",
    "# You might need to adjust the column names based on your actual data\n",
    "data['Chemical'] = data['Chemical'].apply(extract_core_name)\n",
    "chemicals['Chemical Name'] = chemicals['Chemical Name'].apply(extract_core_name)\n",
    "\n",
    "# Initialize a list to hold merged data for all plants\n",
    "all_merged_data = []\n",
    "\n",
    "# Iterate over each plant in the data\n",
    "for index, plant in data.groupby('Plant_Species'):\n",
    "    # Merge the plant data with the chemicals on the chemical names\n",
    "    merged_data = pd.merge(plant, chemicals[['Chemical Name', 'SMILES']], left_on='Chemical', right_on='Chemical Name', how='left')\n",
    "    \n",
    "    # Drop the 'Chemical Name' column from the merged data\n",
    "    merged_data.drop(columns=['Chemical Name'], inplace=True)\n",
    "    \n",
    "    # Reorder columns so that SMILES is right next to Chemical\n",
    "    cols = merged_data.columns.tolist()\n",
    "    smiles_index = cols.index('SMILES')  # Find the index of 'SMILES'\n",
    "    # Reorder columns to place 'SMILES' next to 'Chemical'\n",
    "    cols = [cols[0]] + ['SMILES'] + cols[1:smiles_index] + cols[smiles_index+1:]\n",
    "    merged_data = merged_data[cols]\n",
    "    \n",
    "    # Append the merged data for the current plant to the all_merged_data list\n",
    "    all_merged_data.append(merged_data)\n",
    "\n",
    "# Concatenate all merged data into a single DataFrame\n",
    "all_merged_data = pd.concat(all_merged_data, ignore_index=True)\n",
    "\n",
    "# Define the output file path for the updated dataset\n",
    "output_file_path = 'reorganized_plants_smiles.csv'\n",
    "\n",
    "# Save the updated data to a new CSV file\n",
    "all_merged_data.to_csv(output_file_path, index=False)\n",
    "\n",
    "print(f\"Updated data for all plants with expanded fingerprints and SMILES saved to {output_file_path}\")\n"
   ]
  },
  {
   "cell_type": "code",
   "execution_count": null,
   "id": "6f32f7a1-9a69-4ad2-9854-5680fe07704d",
   "metadata": {},
   "outputs": [],
   "source": []
  },
  {
   "cell_type": "code",
   "execution_count": 69,
   "id": "da592c18-a871-4a95-a304-e75fb5fc2b8a",
   "metadata": {},
   "outputs": [
    {
     "name": "stdout",
     "output_type": "stream",
     "text": [
      "Updated data with bit interpretations and expanded fingerprints saved to reorganized_plants_expanded_fingerprints.csv\n"
     ]
    }
   ],
   "source": [
    "import pandas as pd\n",
    "from rdkit import Chem\n",
    "from rdkit.Chem import AllChem\n",
    "\n",
    "# Function to decode Morgan fingerprint into human-readable information\n",
    "def decode_morgan_fingerprint(mol, fp_bits):\n",
    "    info = {}\n",
    "    fp = AllChem.GetMorganFingerprintAsBitVect(mol, 2, nBits=len(fp_bits), bitInfo=info)\n",
    "    bit_interpretations = {}\n",
    "    for bit in range(len(fp_bits)):\n",
    "        if fp_bits[bit]:  # Only consider bits that are set\n",
    "            atom_info = []\n",
    "            if bit in info:  # If bit information is available\n",
    "                for atom_idx, radius in info[bit]:\n",
    "                    atom = mol.GetAtomWithIdx(atom_idx)\n",
    "                    env = Chem.FindAtomEnvironmentOfRadiusN(mol, radius, atom_idx)\n",
    "                    submol = Chem.PathToSubmol(mol, env)\n",
    "                    atom_info.append((atom_idx, atom.GetSymbol(), radius, Chem.MolToSmiles(submol)))\n",
    "            bit_interpretations[bit] = atom_info\n",
    "    return bit_interpretations\n",
    "\n",
    "# Load the dataset\n",
    "data_path = 'reorganized_plants_smiles.csv'\n",
    "data = pd.read_csv(data_path)\n",
    "\n",
    "# Prepare a new DataFrame to collect all new data\n",
    "expanded_data = []\n",
    "\n",
    "# Iterate through each molecule in the dataset\n",
    "for index, row in data.iterrows():\n",
    "    # Convert the SMILES string to an RDKit molecule object\n",
    "    mol = Chem.MolFromSmiles(row['SMILES'])\n",
    "    \n",
    "    # Convert the fingerprint string from the dataset to a list of bits (integers)\n",
    "    fingerprint_bits = [int(bit) for bit in row['Fingerprints']]\n",
    "    \n",
    "    # Decode the fingerprint into human-readable form\n",
    "    bit_interpretations = decode_morgan_fingerprint(mol, fingerprint_bits)\n",
    "    \n",
    "    # Prepare new row data with bit interpretations and expanded fingerprints\n",
    "    new_row_data = {'BitInterpretations': str(bit_interpretations)}\n",
    "    new_row_data.update({f'Bit_{bit_index}': bit_value for bit_index, bit_value in enumerate(fingerprint_bits)})\n",
    "    \n",
    "    # Append the new data for this row to the expanded_data list\n",
    "    expanded_data.append(new_row_data)\n",
    "\n",
    "# Convert expanded data into a DataFrame\n",
    "expanded_df = pd.DataFrame(expanded_data)\n",
    "\n",
    "# Find the index of the 'Concentration' column\n",
    "concentration_index = data.columns.get_loc(\"Concentration\") + 1  # +1 to place columns after\n",
    "\n",
    "# Concatenate the new columns to the original dataframe at the specific position\n",
    "data = pd.concat([data.iloc[:, :concentration_index], expanded_df, data.iloc[:, concentration_index:]], axis=1)\n",
    "\n",
    "# Arrange columns: Move 'Fingerprints' and 'Bit_Interpretations' to the end\n",
    "cols = list(data.columns)\n",
    "for col in ['Fingerprints', 'BitInterpretations']:\n",
    "    cols.append(cols.pop(cols.index(col)))  # Move column to the end\n",
    "\n",
    "data = data[cols]\n",
    "\n",
    "# Define the output file path for the updated dataset with interpretations and expanded fingerprints\n",
    "output_file_path = 'reorganized_plants_expanded_fingerprints.csv'\n",
    "\n",
    "# Save the updated data to a new CSV file\n",
    "data.to_csv(output_file_path, index=False)\n",
    "\n",
    "print(f\"Updated data with bit interpretations and expanded fingerprints saved to {output_file_path}\")\n"
   ]
  },
  {
   "cell_type": "code",
   "execution_count": 70,
   "id": "d62c2f17-36a6-41a2-bbad-f9086d17c111",
   "metadata": {},
   "outputs": [
    {
     "name": "stdout",
     "output_type": "stream",
     "text": [
      "Index range excluding the first four and last four columns: (4, 2052)\n",
      "The 5th column in the dataset is: Bit_0\n",
      "The fifth-last column in the dataset is: Bit_2047\n"
     ]
    }
   ],
   "source": [
    "import pandas as pd\n",
    "\n",
    "# Load the dataset\n",
    "data_path = 'reorganized_plants_expanded_fingerprints.csv'\n",
    "data = pd.read_csv(data_path)\n",
    "\n",
    "# Get all column names from the dataset\n",
    "all_column_names = data.columns\n",
    "\n",
    "# Determine the index range of all columns, excluding the first four and last four columns\n",
    "total_columns = len(all_column_names)\n",
    "range_after_excluding_ends = (4, total_columns - 4)  # Indexing starts at 0, so 4 represents the 5th column\n",
    "\n",
    "# Print the index range excluding the first four and last four columns\n",
    "print(f\"Index range excluding the first four and last four columns: {range_after_excluding_ends}\")\n",
    "\n",
    "# Optionally, if you want to see the names of these columns:\n",
    "excluded_first_four = all_column_names[4]  # Name of the 5th column\n",
    "excluded_last_four = all_column_names[-5]  # Name of the fifth-last column\n",
    "\n",
    "print(f\"The 5th column in the dataset is: {excluded_first_four}\")\n",
    "print(f\"The fifth-last column in the dataset is: {excluded_last_four}\")\n"
   ]
  },
  {
   "cell_type": "code",
   "execution_count": 71,
   "id": "a2750448-9c97-4c23-9a59-9612989497ed",
   "metadata": {},
   "outputs": [
    {
     "name": "stdout",
     "output_type": "stream",
     "text": [
      "(433, 722)\n",
      "Number of dropped 'Bit_' columns: 1334\n"
     ]
    },
    {
     "data": {
      "text/plain": [
       "'reorganized_plants_filtered.csv'"
      ]
     },
     "execution_count": 71,
     "metadata": {},
     "output_type": "execute_result"
    }
   ],
   "source": [
    "import pandas as pd\n",
    "\n",
    "# Load your data, ensuring that NA values are read correctly\n",
    "data = pd.read_csv('reorganized_plants_expanded_fingerprints.csv', keep_default_na=False)\n",
    "\n",
    "# Separate 'Bit_' columns from the rest of the data\n",
    "bit_columns = [col for col in data.columns if col.startswith('Bit_')]\n",
    "non_bit_columns = [col for col in data.columns if not col.startswith('Bit_')]\n",
    "\n",
    "# Creating a boolean mask for 'Bit_' columns where not all values are 0\n",
    "mask = (data[bit_columns] != 0).any(axis=0)\n",
    "\n",
    "# Apply the mask to filter 'Bit_' columns using column names\n",
    "filtered_bit_columns = data.loc[:, mask.index[mask]]\n",
    "\n",
    "# Recombine the filtered 'Bit_' columns with the rest of the data\n",
    "final_data = pd.concat([data[non_bit_columns], filtered_bit_columns], axis=1)\n",
    "\n",
    "# Calculate the number of dropped columns\n",
    "original_bit_columns = len(bit_columns)\n",
    "filtered_bit_columns_num = filtered_bit_columns.shape[1]\n",
    "num_dropped_columns = original_bit_columns - filtered_bit_columns_num\n",
    "\n",
    "# Output the results\n",
    "print(final_data.shape)\n",
    "print(f\"Number of dropped 'Bit_' columns: {num_dropped_columns}\")\n",
    "\n",
    "# Save the complete dataset with filtered 'Bit_' columns back to a new CSV file, ensuring NA values are not altered\n",
    "save_path = 'reorganized_plants_filtered.csv'\n",
    "final_data.to_csv(save_path, index=False, na_rep='NA')\n",
    "\n",
    "# Return the path where the file was saved for user access\n",
    "save_path\n"
   ]
  },
  {
   "cell_type": "markdown",
   "id": "b054f80d-20b7-4da7-a063-75539318cc65",
   "metadata": {},
   "source": [
    "**I will now aggregate all chemicals into one row to reduce the duplicates of the plants"
   ]
  },
  {
   "cell_type": "code",
   "execution_count": 72,
   "id": "13fba0f4-1a67-4c2c-b22b-5a8cc2596136",
   "metadata": {},
   "outputs": [
    {
     "name": "stdout",
     "output_type": "stream",
     "text": [
      "Columns in the aggregated DataFrame before reordering: Index(['Plant_Species', 'Salmonella Typhimurium', 'Bit_1', 'Bit_2', 'Bit_4',\n",
      "       'Bit_8', 'Bit_11', 'Bit_13', 'Bit_14', 'Bit_19',\n",
      "       ...\n",
      "       'Bit_2025', 'Bit_2026', 'Bit_2027', 'Bit_2029', 'Bit_2033', 'Bit_2040',\n",
      "       'Bit_2041', 'Bit_2044', 'Reference', 'BitInterpretations'],\n",
      "      dtype='object', length=718)\n",
      "Aggregated dataset saved to aggregated_plants.csv\n"
     ]
    }
   ],
   "source": [
    "import pandas as pd\n",
    "\n",
    "# Load the filtered dataset \n",
    "file_path = 'reorganized_plants_filtered.csv'  \n",
    "\n",
    "data = pd.read_csv(file_path)\n",
    "\n",
    "# Convert 'Reference' to string and handle NaNs\n",
    "data['Reference'] = data['Reference'].fillna('No Reference').astype(str)\n",
    "\n",
    "# Define the columns to aggregate\n",
    "plant_species = 'Plant_Species'\n",
    "salmonella_col = 'Salmonella Typhimurium' \n",
    "reference_col = 'Reference'  \n",
    "bit_columns = [col for col in data.columns if col.startswith('Bit_')]\n",
    "bit_interpretation_col = 'BitInterpretations'  \n",
    "\n",
    "# Aggregate 'Reference' and 'BitInterpretations' by concatenating unique values\n",
    "def unique_concatenate(series):\n",
    "    return '; '.join(set(series))  # This separates each reference with a semicolon\n",
    "\n",
    "references_aggregated = data.groupby(plant_species)[reference_col].agg(unique_concatenate)\n",
    "interpretations_aggregated = data.groupby(plant_species)[bit_interpretation_col].agg(unique_concatenate)\n",
    "\n",
    "# Group by 'Plant_Species' and aggregate binary features and salmonella  using max\n",
    "columns_to_aggregate = [salmonella_col] + bit_columns  #salmonella is first in the list\n",
    "binary_and_salmonella_aggregated = data.groupby(plant_species)[columns_to_aggregate].max()\n",
    "\n",
    "# Combine the aggregated binary features, salmonella, and Reference into one DataFrame\n",
    "aggregated_data = pd.concat([binary_and_salmonella_aggregated, references_aggregated, interpretations_aggregated], axis=1)\n",
    "\n",
    "# Reset index to turn 'Plant_Species' back into a column\n",
    "aggregated_data.reset_index(inplace=True)\n",
    "\n",
    "# Ensuring 'BitInterpretations' is indeed part of the aggregated DataFrame\n",
    "print(\"Columns in the aggregated DataFrame before reordering:\", aggregated_data.columns)\n",
    "\n",
    "# Reorder the columns\n",
    "final_columns = [plant_species, salmonella_col, reference_col] + bit_columns + [bit_interpretation_col]\n",
    "try:\n",
    "    aggregated_data = aggregated_data[final_columns]\n",
    "except KeyError as e:\n",
    "    print(\"Error in reordering columns:\", e)\n",
    "    print(\"Please ensure all column names in 'final_columns' are present in 'aggregated_data'\")\n",
    "\n",
    "# Save the aggregated dataset\n",
    "new_file_path = 'aggregated_plants.csv'  # Update this to where you want the file saved\n",
    "aggregated_data.to_csv(new_file_path, index=False)\n",
    "\n",
    "print(f\"Aggregated dataset saved to {new_file_path}\")\n"
   ]
  },
  {
   "cell_type": "code",
   "execution_count": 42,
   "id": "d877a5c2-4b16-443a-bc6a-d4bcd6fbaa07",
   "metadata": {},
   "outputs": [
    {
     "name": "stderr",
     "output_type": "stream",
     "text": [
      "/var/folders/x1/3wgmd54s6b7f7xc3rq_f0tdw0000gn/T/ipykernel_98591/3714575992.py:16: FutureWarning: \n",
      "\n",
      "Passing `palette` without assigning `hue` is deprecated and will be removed in v0.14.0. Assign the `x` variable to `hue` and set `legend=False` for the same effect.\n",
      "\n",
      "  ax = sns.barplot(x=active_distribution.index, y=active_distribution.values, palette='coolwarm', dodge=False, linewidth=0.5)\n",
      "No artists with labels found to put in legend.  Note that artists whose label start with an underscore are ignored when legend() is called with no argument.\n"
     ]
    },
    {
     "data": {
      "image/png": "[encoded data removed]",
      "text/plain": [
       "<Figure size 700x500 with 1 Axes>"
      ]
     },
     "metadata": {},
     "output_type": "display_data"
    }
   ],
   "source": [
    "import pandas as pd\n",
    "import matplotlib.pyplot as plt\n",
    "import seaborn as sns\n",
    "\n",
    "# Setting seaborn style for aesthetics\n",
    "sns.set(style=\"whitegrid\")\n",
    "\n",
    "# Loading the CSV file\n",
    "df = pd.read_csv('aggregated_plants.csv')\n",
    "\n",
    "# Distribution of activity against Salmonella Typhimurium\n",
    "active_distribution = df['Salmonella Typhimurium'].value_counts()\n",
    "\n",
    "# Plotting with a smaller figure size\n",
    "plt.figure(figsize=(7, 5))\n",
    "ax = sns.barplot(x=active_distribution.index, y=active_distribution.values, palette='coolwarm', dodge=False, linewidth=0.5)\n",
    "ax.legend().set_visible(False)  # Remove legend if not desired\n",
    "\n",
    "# Customizing the plot\n",
    "plt.title('Distribution of essential oils based on their activity against $\\it{Salmonella\\ Typhimurium}$', fontsize=12, pad=10, color='black')\n",
    "plt.xlabel('Activity', fontsize=12, labelpad=12, color='black')\n",
    "plt.ylabel('Number of Plants', fontsize=12, labelpad=12, color='black')\n",
    "plt.xticks(ticks=[0, 1], labels=['Not Active (0)', 'Active (1)'], color='black')\n",
    "plt.yticks(color='black')\n",
    "\n",
    "# Adjusting the margins around the bars to prevent them from being too close to the edge\n",
    "plt.margins(x=0.1)\n",
    "\n",
    "# Annotating bars with exact counts, ensuring text color is black and adjusting font size\n",
    "for p in ax.patches:\n",
    "    height = p.get_height()\n",
    "    # Positioning the annotation at half the height of the bar for centering\n",
    "    ax.annotate(f'{int(height)}', (p.get_x() + p.get_width() / 2., height/2),\n",
    "                ha='center', va='center', color='black', fontsize=12)\n",
    "\n",
    "plt.tight_layout()\n",
    "\n",
    "# Save the figure at 300 DPI with increased padding\n",
    "plt.savefig('charts/activity_distribution_against_salmonella_typhimurium.png', dpi=300, bbox_inches='tight')\n",
    "\n",
    "plt.show()\n",
    "\n",
    "\n",
    "\n"
   ]
  },
  {
   "cell_type": "code",
   "execution_count": 72,
   "id": "04914638-8cc5-4031-ae7e-8c2b6a325578",
   "metadata": {},
   "outputs": [
    {
     "data": {
      "image/png": "[encoded data removed]",
      "text/plain": [
       "<Figure size 800x800 with 1 Axes>"
      ]
     },
     "metadata": {},
     "output_type": "display_data"
    }
   ],
   "source": [
    "from sklearn.decomposition import PCA\n",
    "import seaborn as sns\n",
    "import matplotlib.pyplot as plt\n",
    "import numpy as np\n",
    "\n",
    "#  'df' is already loaded and 'feature_columns' are defined as before\n",
    "# use PCA to reduce the data to two components\n",
    "pca = PCA(n_components=2)\n",
    "reduced_data = pca.fit_transform(df[feature_columns])\n",
    "\n",
    "# Calculate the explained variance ratio\n",
    "explained_variance_ratio = pca.explained_variance_ratio_\n",
    "explained_variance_percentage = explained_variance_ratio * 100\n",
    "\n",
    "#  create a scatter plot of the two PCA components\n",
    "plt.figure(figsize=(8, 8))\n",
    "\n",
    "# Mapping binary values to 'Active' and 'Not Active'\n",
    "activity_labels = df['Salmonella Typhimurium'].map({1: 'Active', 0: 'Not Active'})\n",
    "\n",
    "# Plotting\n",
    "scatter = sns.scatterplot(x=reduced_data[:, 0], y=reduced_data[:, 1],\n",
    "                          hue=activity_labels,\n",
    "                          palette={'Active': 'red', 'Not Active': 'blue'},\n",
    "                          alpha=0.5)\n",
    "\n",
    "# Setting custom legend and labels\n",
    "plt.title('PCA - First two principal components')\n",
    "plt.xlabel(f'PCA Component 1 ({explained_variance_percentage[0]:.2f}%)')\n",
    "plt.ylabel(f'PCA Component 2 ({explained_variance_percentage[1]:.2f}%)')\n",
    "handles, labels = scatter.get_legend_handles_labels()\n",
    "plt.legend(handles, ['Not Active', 'Active'], title=\"Activity against $\\it{Salmonella\\ Typhimurium}$\")\n",
    "\n",
    "plt.savefig('charts/pca_activity.png', dpi=300, bbox_inches='tight')\n",
    "plt.show()\n"
   ]
  }
 ],
 "metadata": {
  "kernelspec": {
   "display_name": "Python 3 (ipykernel)",
   "language": "python",
   "name": "python3"
  },
  "language_info": {
   "codemirror_mode": {
    "name": "ipython",
    "version": 3
   },
   "file_extension": ".py",
   "mimetype": "text/x-python",
   "name": "python",
   "nbconvert_exporter": "python",
   "pygments_lexer": "ipython3",
   "version": "3.9.17"
  }
 },
 "nbformat": 4,
 "nbformat_minor": 5
}

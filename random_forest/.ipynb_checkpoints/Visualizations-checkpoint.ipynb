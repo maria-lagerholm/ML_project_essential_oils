{
 "cells": [
  {
   "cell_type": "markdown",
   "id": "3191076c",
   "metadata": {},
   "source": [
    "Visualizing  Distribution of chemicals linked by machine learning algorithm with anti-<i>Salmonella Typhimurium</i> activity of essential oils\n"
   ]
  },
  {
   "cell_type": "code",
   "execution_count": 93,
   "id": "5f48e15b",
   "metadata": {},
   "outputs": [
    {
     "name": "stdout",
     "output_type": "stream",
     "text": [
      "Data saved to active_against_salmoella.csv\n"
     ]
    }
   ],
   "source": [
    "import pandas as pd\n",
    "from ast import literal_eval\n",
    "\n",
    "# Define the base path and the list of file identifiers\n",
    "base_path = \"/Users/mariiakokina/Documents/eo_database/SOM/features/\"\n",
    "file_ids = [875, 1607, 1750, 1602, 1365, 1853, 1930, 741]\n",
    "\n",
    "\n",
    "\n",
    "# Initialize a dictionary to hold the structures, their corresponding chemical names, and file bit numbers\n",
    "structures_to_names_and_bits = {}\n",
    "\n",
    "# Iterate through the list of file identifiers\n",
    "for file_id in file_ids:\n",
    "    # Construct the filename\n",
    "    filename = f\"{base_path}Bit_{file_id}_updated.csv\"\n",
    "    \n",
    "    # Read the CSV file\n",
    "    try:\n",
    "        df = pd.read_csv(filename)\n",
    "        \n",
    "        # Iterate over each row in the dataframe\n",
    "        for index, row in df.iterrows():\n",
    "            # Safely evaluate the string representation of the list in BitInterpretations column\n",
    "            tuples_list = literal_eval(row['BitInterpretations'])\n",
    "            \n",
    "            # Extract the fourth element (structure) from each tuple\n",
    "            for tup in tuples_list:\n",
    "                structure = tup[3]\n",
    "                chemical_name = row['Chemical_name']\n",
    "                \n",
    "                # Initialize dictionary entry if not present\n",
    "                if structure not in structures_to_names_and_bits:\n",
    "                    structures_to_names_and_bits[structure] = {'names': set(), 'bits': []}\n",
    "                \n",
    "                # Add the chemical name to the set (to avoid duplicates) and bit number to the list\n",
    "                structures_to_names_and_bits[structure]['names'].add(chemical_name)\n",
    "                if file_id not in structures_to_names_and_bits[structure]['bits']:\n",
    "                    structures_to_names_and_bits[structure]['bits'].append(file_id)\n",
    "    except FileNotFoundError:\n",
    "        print(f\"File not found: {filename}\")\n",
    "    except Exception as e:\n",
    "        print(f\"Error reading file {filename}: {e}\")\n",
    "\n",
    "# Prepare data for DataFrame\n",
    "data_for_df = []\n",
    "for structure, info in structures_to_names_and_bits.items():\n",
    "    # Convert bit numbers list to a string for display\n",
    "    bits_str = ', '.join(map(str, info['bits']))\n",
    "    # Append tuple for each structure with its bit numbers, count of unique names, and concatenated chemical names\n",
    "    data_for_df.append((structure, bits_str, len(info['names']), ', '.join(info['names'])))\n",
    "\n",
    "# Create a DataFrame\n",
    "df_structures_names_bits = pd.DataFrame(data_for_df, columns=['Substructure', 'Morgan Fingerprint Bit Number', 'Number of Occurrences', 'Chemical'])\n",
    "\n",
    "# Save the DataFrame to a CSV file\n",
    "csv_file_path = \"active_against_salmoella.csv\"\n",
    "df_structures_names_bits.to_csv(csv_file_path, index=False)\n",
    "\n",
    "print(f\"Data saved to {csv_file_path}\")\n"
   ]
  },
  {
   "cell_type": "code",
   "execution_count": 104,
   "id": "4946d808",
   "metadata": {},
   "outputs": [
    {
     "name": "stdout",
     "output_type": "stream",
     "text": [
      "Carvacrol                            136\n",
      "para-Cymene                           45\n",
      "Thymol                                36\n",
      "Eugenol                               28\n",
      "2-Hydroxy-4-methoxy-acetophenone       4\n",
      "Eugenyl acetate                        4\n",
      "Cuminaldehyde                          3\n",
      "Coumarins                              3\n",
      "Furfural                               3\n",
      "ar-Turmerone                           3\n",
      "Methyl thymol                          2\n",
      "2-Phenylethanol                        2\n",
      "Methyl benzoate                        2\n",
      "Methyl chavicol                        1\n",
      "Diosphenol                             1\n",
      "p-Cresyl methyl ether                  1\n",
      "Isodiosphenol                          1\n",
      "alpha-Turmerone                        1\n",
      "Methyl (Z)-cinnamate                   1\n",
      "Coumarin                               1\n",
      "Ethyl cinnamate                        1\n",
      "Ethyl (E)-4-methoxycinnamate           1\n",
      "Allyl-2,3,4,5-tetramethoxybenzene      1\n",
      "Cinnamyl aldehyde                      1\n",
      "Anethole                               1\n",
      "2-Phenylethyl isothiocyanate           1\n",
      "(Z)-3-Hexenyl benzoate                 1\n",
      "(E)-Ethyl cinnamate                    1\n",
      "(E)-Anethole                           1\n",
      "Myristicin                             1\n",
      "beta-Turmerone                         1\n",
      "Name: Chemical_name, dtype: int64\n"
     ]
    },
    {
     "name": "stderr",
     "output_type": "stream",
     "text": [
      "/var/folders/x1/3wgmd54s6b7f7xc3rq_f0tdw0000gn/T/ipykernel_41099/3915111142.py:45: FutureWarning:\n",
      "\n",
      "The series.append method is deprecated and will be removed from pandas in a future version. Use pandas.concat instead.\n",
      "\n"
     ]
    },
    {
     "data": {
      "application/vnd.plotly.v1+json": {
       "config": {
        "plotlyServerURL": "https://plot.ly"
       },
       "data": [
        {
         "hoverinfo": "label+percent",
         "insidetextorientation": "radial",
         "labels": [
          "Carvacrol",
          "para-Cymene",
          "Thymol",
          "Eugenol",
          "Others"
         ],
         "marker": {
          "colors": [
           "#FEBFB3",
           "#E1396C",
           "#96D38C",
           "#D0F9B1",
           "#FAD0C4",
           "#FF9F9A",
           "#FAB0E4"
          ]
         },
         "outsidetextfont": {
          "size": 12
         },
         "pull": 0.05,
         "textinfo": "percent+label",
         "textposition": "outside",
         "type": "pie",
         "values": [
          136,
          45,
          36,
          28,
          44
         ]
        }
       ],
       "layout": {
        "font": {
         "color": "black",
         "family": "EB Garamond, serif",
         "size": 12
        },
        "legend": {
         "font": {
          "color": "black",
          "family": "EB Garamond, serif",
          "size": 12
         },
         "title": {
          "font": {
           "color": "black",
           "family": "EB Garamond, serif",
           "size": 12
          }
         }
        },
        "template": {
         "data": {
          "bar": [
           {
            "error_x": {
             "color": "#2a3f5f"
            },
            "error_y": {
             "color": "#2a3f5f"
            },
            "marker": {
             "line": {
              "color": "#E5ECF6",
              "width": 0.5
             },
             "pattern": {
              "fillmode": "overlay",
              "size": 10,
              "solidity": 0.2
             }
            },
            "type": "bar"
           }
          ],
          "barpolar": [
           {
            "marker": {
             "line": {
              "color": "#E5ECF6",
              "width": 0.5
             },
             "pattern": {
              "fillmode": "overlay",
              "size": 10,
              "solidity": 0.2
             }
            },
            "type": "barpolar"
           }
          ],
          "carpet": [
           {
            "aaxis": {
             "endlinecolor": "#2a3f5f",
             "gridcolor": "white",
             "linecolor": "white",
             "minorgridcolor": "white",
             "startlinecolor": "#2a3f5f"
            },
            "baxis": {
             "endlinecolor": "#2a3f5f",
             "gridcolor": "white",
             "linecolor": "white",
             "minorgridcolor": "white",
             "startlinecolor": "#2a3f5f"
            },
            "type": "carpet"
           }
          ],
          "choropleth": [
           {
            "colorbar": {
             "outlinewidth": 0,
             "ticks": ""
            },
            "type": "choropleth"
           }
          ],
          "contour": [
           {
            "colorbar": {
             "outlinewidth": 0,
             "ticks": ""
            },
            "colorscale": [
             [
              0,
              "#0d0887"
             ],
             [
              0.1111111111111111,
              "#46039f"
             ],
             [
              0.2222222222222222,
              "#7201a8"
             ],
             [
              0.3333333333333333,
              "#9c179e"
             ],
             [
              0.4444444444444444,
              "#bd3786"
             ],
             [
              0.5555555555555556,
              "#d8576b"
             ],
             [
              0.6666666666666666,
              "#ed7953"
             ],
             [
              0.7777777777777778,
              "#fb9f3a"
             ],
             [
              0.8888888888888888,
              "#fdca26"
             ],
             [
              1,
              "#f0f921"
             ]
            ],
            "type": "contour"
           }
          ],
          "contourcarpet": [
           {
            "colorbar": {
             "outlinewidth": 0,
             "ticks": ""
            },
            "type": "contourcarpet"
           }
          ],
          "heatmap": [
           {
            "colorbar": {
             "outlinewidth": 0,
             "ticks": ""
            },
            "colorscale": [
             [
              0,
              "#0d0887"
             ],
             [
              0.1111111111111111,
              "#46039f"
             ],
             [
              0.2222222222222222,
              "#7201a8"
             ],
             [
              0.3333333333333333,
              "#9c179e"
             ],
             [
              0.4444444444444444,
              "#bd3786"
             ],
             [
              0.5555555555555556,
              "#d8576b"
             ],
             [
              0.6666666666666666,
              "#ed7953"
             ],
             [
              0.7777777777777778,
              "#fb9f3a"
             ],
             [
              0.8888888888888888,
              "#fdca26"
             ],
             [
              1,
              "#f0f921"
             ]
            ],
            "type": "heatmap"
           }
          ],
          "heatmapgl": [
           {
            "colorbar": {
             "outlinewidth": 0,
             "ticks": ""
            },
            "colorscale": [
             [
              0,
              "#0d0887"
             ],
             [
              0.1111111111111111,
              "#46039f"
             ],
             [
              0.2222222222222222,
              "#7201a8"
             ],
             [
              0.3333333333333333,
              "#9c179e"
             ],
             [
              0.4444444444444444,
              "#bd3786"
             ],
             [
              0.5555555555555556,
              "#d8576b"
             ],
             [
              0.6666666666666666,
              "#ed7953"
             ],
             [
              0.7777777777777778,
              "#fb9f3a"
             ],
             [
              0.8888888888888888,
              "#fdca26"
             ],
             [
              1,
              "#f0f921"
             ]
            ],
            "type": "heatmapgl"
           }
          ],
          "histogram": [
           {
            "marker": {
             "pattern": {
              "fillmode": "overlay",
              "size": 10,
              "solidity": 0.2
             }
            },
            "type": "histogram"
           }
          ],
          "histogram2d": [
           {
            "colorbar": {
             "outlinewidth": 0,
             "ticks": ""
            },
            "colorscale": [
             [
              0,
              "#0d0887"
             ],
             [
              0.1111111111111111,
              "#46039f"
             ],
             [
              0.2222222222222222,
              "#7201a8"
             ],
             [
              0.3333333333333333,
              "#9c179e"
             ],
             [
              0.4444444444444444,
              "#bd3786"
             ],
             [
              0.5555555555555556,
              "#d8576b"
             ],
             [
              0.6666666666666666,
              "#ed7953"
             ],
             [
              0.7777777777777778,
              "#fb9f3a"
             ],
             [
              0.8888888888888888,
              "#fdca26"
             ],
             [
              1,
              "#f0f921"
             ]
            ],
            "type": "histogram2d"
           }
          ],
          "histogram2dcontour": [
           {
            "colorbar": {
             "outlinewidth": 0,
             "ticks": ""
            },
            "colorscale": [
             [
              0,
              "#0d0887"
             ],
             [
              0.1111111111111111,
              "#46039f"
             ],
             [
              0.2222222222222222,
              "#7201a8"
             ],
             [
              0.3333333333333333,
              "#9c179e"
             ],
             [
              0.4444444444444444,
              "#bd3786"
             ],
             [
              0.5555555555555556,
              "#d8576b"
             ],
             [
              0.6666666666666666,
              "#ed7953"
             ],
             [
              0.7777777777777778,
              "#fb9f3a"
             ],
             [
              0.8888888888888888,
              "#fdca26"
             ],
             [
              1,
              "#f0f921"
             ]
            ],
            "type": "histogram2dcontour"
           }
          ],
          "mesh3d": [
           {
            "colorbar": {
             "outlinewidth": 0,
             "ticks": ""
            },
            "type": "mesh3d"
           }
          ],
          "parcoords": [
           {
            "line": {
             "colorbar": {
              "outlinewidth": 0,
              "ticks": ""
             }
            },
            "type": "parcoords"
           }
          ],
          "pie": [
           {
            "automargin": true,
            "type": "pie"
           }
          ],
          "scatter": [
           {
            "fillpattern": {
             "fillmode": "overlay",
             "size": 10,
             "solidity": 0.2
            },
            "type": "scatter"
           }
          ],
          "scatter3d": [
           {
            "line": {
             "colorbar": {
              "outlinewidth": 0,
              "ticks": ""
             }
            },
            "marker": {
             "colorbar": {
              "outlinewidth": 0,
              "ticks": ""
             }
            },
            "type": "scatter3d"
           }
          ],
          "scattercarpet": [
           {
            "marker": {
             "colorbar": {
              "outlinewidth": 0,
              "ticks": ""
             }
            },
            "type": "scattercarpet"
           }
          ],
          "scattergeo": [
           {
            "marker": {
             "colorbar": {
              "outlinewidth": 0,
              "ticks": ""
             }
            },
            "type": "scattergeo"
           }
          ],
          "scattergl": [
           {
            "marker": {
             "colorbar": {
              "outlinewidth": 0,
              "ticks": ""
             }
            },
            "type": "scattergl"
           }
          ],
          "scattermapbox": [
           {
            "marker": {
             "colorbar": {
              "outlinewidth": 0,
              "ticks": ""
             }
            },
            "type": "scattermapbox"
           }
          ],
          "scatterpolar": [
           {
            "marker": {
             "colorbar": {
              "outlinewidth": 0,
              "ticks": ""
             }
            },
            "type": "scatterpolar"
           }
          ],
          "scatterpolargl": [
           {
            "marker": {
             "colorbar": {
              "outlinewidth": 0,
              "ticks": ""
             }
            },
            "type": "scatterpolargl"
           }
          ],
          "scatterternary": [
           {
            "marker": {
             "colorbar": {
              "outlinewidth": 0,
              "ticks": ""
             }
            },
            "type": "scatterternary"
           }
          ],
          "surface": [
           {
            "colorbar": {
             "outlinewidth": 0,
             "ticks": ""
            },
            "colorscale": [
             [
              0,
              "#0d0887"
             ],
             [
              0.1111111111111111,
              "#46039f"
             ],
             [
              0.2222222222222222,
              "#7201a8"
             ],
             [
              0.3333333333333333,
              "#9c179e"
             ],
             [
              0.4444444444444444,
              "#bd3786"
             ],
             [
              0.5555555555555556,
              "#d8576b"
             ],
             [
              0.6666666666666666,
              "#ed7953"
             ],
             [
              0.7777777777777778,
              "#fb9f3a"
             ],
             [
              0.8888888888888888,
              "#fdca26"
             ],
             [
              1,
              "#f0f921"
             ]
            ],
            "type": "surface"
           }
          ],
          "table": [
           {
            "cells": {
             "fill": {
              "color": "#EBF0F8"
             },
             "line": {
              "color": "white"
             }
            },
            "header": {
             "fill": {
              "color": "#C8D4E3"
             },
             "line": {
              "color": "white"
             }
            },
            "type": "table"
           }
          ]
         },
         "layout": {
          "annotationdefaults": {
           "arrowcolor": "#2a3f5f",
           "arrowhead": 0,
           "arrowwidth": 1
          },
          "autotypenumbers": "strict",
          "coloraxis": {
           "colorbar": {
            "outlinewidth": 0,
            "ticks": ""
           }
          },
          "colorscale": {
           "diverging": [
            [
             0,
             "#8e0152"
            ],
            [
             0.1,
             "#c51b7d"
            ],
            [
             0.2,
             "#de77ae"
            ],
            [
             0.3,
             "#f1b6da"
            ],
            [
             0.4,
             "#fde0ef"
            ],
            [
             0.5,
             "#f7f7f7"
            ],
            [
             0.6,
             "#e6f5d0"
            ],
            [
             0.7,
             "#b8e186"
            ],
            [
             0.8,
             "#7fbc41"
            ],
            [
             0.9,
             "#4d9221"
            ],
            [
             1,
             "#276419"
            ]
           ],
           "sequential": [
            [
             0,
             "#0d0887"
            ],
            [
             0.1111111111111111,
             "#46039f"
            ],
            [
             0.2222222222222222,
             "#7201a8"
            ],
            [
             0.3333333333333333,
             "#9c179e"
            ],
            [
             0.4444444444444444,
             "#bd3786"
            ],
            [
             0.5555555555555556,
             "#d8576b"
            ],
            [
             0.6666666666666666,
             "#ed7953"
            ],
            [
             0.7777777777777778,
             "#fb9f3a"
            ],
            [
             0.8888888888888888,
             "#fdca26"
            ],
            [
             1,
             "#f0f921"
            ]
           ],
           "sequentialminus": [
            [
             0,
             "#0d0887"
            ],
            [
             0.1111111111111111,
             "#46039f"
            ],
            [
             0.2222222222222222,
             "#7201a8"
            ],
            [
             0.3333333333333333,
             "#9c179e"
            ],
            [
             0.4444444444444444,
             "#bd3786"
            ],
            [
             0.5555555555555556,
             "#d8576b"
            ],
            [
             0.6666666666666666,
             "#ed7953"
            ],
            [
             0.7777777777777778,
             "#fb9f3a"
            ],
            [
             0.8888888888888888,
             "#fdca26"
            ],
            [
             1,
             "#f0f921"
            ]
           ]
          },
          "colorway": [
           "#636efa",
           "#EF553B",
           "#00cc96",
           "#ab63fa",
           "#FFA15A",
           "#19d3f3",
           "#FF6692",
           "#B6E880",
           "#FF97FF",
           "#FECB52"
          ],
          "font": {
           "color": "#2a3f5f"
          },
          "geo": {
           "bgcolor": "white",
           "lakecolor": "white",
           "landcolor": "#E5ECF6",
           "showlakes": true,
           "showland": true,
           "subunitcolor": "white"
          },
          "hoverlabel": {
           "align": "left"
          },
          "hovermode": "closest",
          "mapbox": {
           "style": "light"
          },
          "paper_bgcolor": "white",
          "plot_bgcolor": "#E5ECF6",
          "polar": {
           "angularaxis": {
            "gridcolor": "white",
            "linecolor": "white",
            "ticks": ""
           },
           "bgcolor": "#E5ECF6",
           "radialaxis": {
            "gridcolor": "white",
            "linecolor": "white",
            "ticks": ""
           }
          },
          "scene": {
           "xaxis": {
            "backgroundcolor": "#E5ECF6",
            "gridcolor": "white",
            "gridwidth": 2,
            "linecolor": "white",
            "showbackground": true,
            "ticks": "",
            "zerolinecolor": "white"
           },
           "yaxis": {
            "backgroundcolor": "#E5ECF6",
            "gridcolor": "white",
            "gridwidth": 2,
            "linecolor": "white",
            "showbackground": true,
            "ticks": "",
            "zerolinecolor": "white"
           },
           "zaxis": {
            "backgroundcolor": "#E5ECF6",
            "gridcolor": "white",
            "gridwidth": 2,
            "linecolor": "white",
            "showbackground": true,
            "ticks": "",
            "zerolinecolor": "white"
           }
          },
          "shapedefaults": {
           "line": {
            "color": "#2a3f5f"
           }
          },
          "ternary": {
           "aaxis": {
            "gridcolor": "white",
            "linecolor": "white",
            "ticks": ""
           },
           "baxis": {
            "gridcolor": "white",
            "linecolor": "white",
            "ticks": ""
           },
           "bgcolor": "#E5ECF6",
           "caxis": {
            "gridcolor": "white",
            "linecolor": "white",
            "ticks": ""
           }
          },
          "title": {
           "x": 0.05
          },
          "xaxis": {
           "automargin": true,
           "gridcolor": "white",
           "linecolor": "white",
           "ticks": "",
           "title": {
            "standoff": 15
           },
           "zerolinecolor": "white",
           "zerolinewidth": 2
          },
          "yaxis": {
           "automargin": true,
           "gridcolor": "white",
           "linecolor": "white",
           "ticks": "",
           "title": {
            "standoff": 15
           },
           "zerolinecolor": "white",
           "zerolinewidth": 2
          }
         }
        },
        "title": {
         "font": {
          "color": "black",
          "family": "EB Garamond, serif",
          "size": 12
         },
         "text": "Distribution of chemicals linked by random forest algorithm with anti-<i>Salmonella Typhimurium</i> activity of essential oils",
         "x": 0.5
        }
       }
      },
      "text/html": [
       "<div>                            <div id=\"3d4d2a93-b31c-4cf8-8d68-22f7f805efaa\" class=\"plotly-graph-div\" style=\"height:525px; width:100%;\"></div>            <script type=\"text/javascript\">                require([\"plotly\"], function(Plotly) {                    window.PLOTLYENV=window.PLOTLYENV || {};                                    if (document.getElementById(\"3d4d2a93-b31c-4cf8-8d68-22f7f805efaa\")) {                    Plotly.newPlot(                        \"3d4d2a93-b31c-4cf8-8d68-22f7f805efaa\",                        [{\"hoverinfo\":\"label+percent\",\"insidetextorientation\":\"radial\",\"labels\":[\"Carvacrol\",\"para-Cymene\",\"Thymol\",\"Eugenol\",\"Others\"],\"marker\":{\"colors\":[\"#FEBFB3\",\"#E1396C\",\"#96D38C\",\"#D0F9B1\",\"#FAD0C4\",\"#FF9F9A\",\"#FAB0E4\"]},\"outsidetextfont\":{\"size\":12},\"pull\":0.05,\"textinfo\":\"percent+label\",\"textposition\":\"outside\",\"values\":[136,45,36,28,44],\"type\":\"pie\"}],                        {\"template\":{\"data\":{\"histogram2dcontour\":[{\"type\":\"histogram2dcontour\",\"colorbar\":{\"outlinewidth\":0,\"ticks\":\"\"},\"colorscale\":[[0.0,\"#0d0887\"],[0.1111111111111111,\"#46039f\"],[0.2222222222222222,\"#7201a8\"],[0.3333333333333333,\"#9c179e\"],[0.4444444444444444,\"#bd3786\"],[0.5555555555555556,\"#d8576b\"],[0.6666666666666666,\"#ed7953\"],[0.7777777777777778,\"#fb9f3a\"],[0.8888888888888888,\"#fdca26\"],[1.0,\"#f0f921\"]]}],\"choropleth\":[{\"type\":\"choropleth\",\"colorbar\":{\"outlinewidth\":0,\"ticks\":\"\"}}],\"histogram2d\":[{\"type\":\"histogram2d\",\"colorbar\":{\"outlinewidth\":0,\"ticks\":\"\"},\"colorscale\":[[0.0,\"#0d0887\"],[0.1111111111111111,\"#46039f\"],[0.2222222222222222,\"#7201a8\"],[0.3333333333333333,\"#9c179e\"],[0.4444444444444444,\"#bd3786\"],[0.5555555555555556,\"#d8576b\"],[0.6666666666666666,\"#ed7953\"],[0.7777777777777778,\"#fb9f3a\"],[0.8888888888888888,\"#fdca26\"],[1.0,\"#f0f921\"]]}],\"heatmap\":[{\"type\":\"heatmap\",\"colorbar\":{\"outlinewidth\":0,\"ticks\":\"\"},\"colorscale\":[[0.0,\"#0d0887\"],[0.1111111111111111,\"#46039f\"],[0.2222222222222222,\"#7201a8\"],[0.3333333333333333,\"#9c179e\"],[0.4444444444444444,\"#bd3786\"],[0.5555555555555556,\"#d8576b\"],[0.6666666666666666,\"#ed7953\"],[0.7777777777777778,\"#fb9f3a\"],[0.8888888888888888,\"#fdca26\"],[1.0,\"#f0f921\"]]}],\"heatmapgl\":[{\"type\":\"heatmapgl\",\"colorbar\":{\"outlinewidth\":0,\"ticks\":\"\"},\"colorscale\":[[0.0,\"#0d0887\"],[0.1111111111111111,\"#46039f\"],[0.2222222222222222,\"#7201a8\"],[0.3333333333333333,\"#9c179e\"],[0.4444444444444444,\"#bd3786\"],[0.5555555555555556,\"#d8576b\"],[0.6666666666666666,\"#ed7953\"],[0.7777777777777778,\"#fb9f3a\"],[0.8888888888888888,\"#fdca26\"],[1.0,\"#f0f921\"]]}],\"contourcarpet\":[{\"type\":\"contourcarpet\",\"colorbar\":{\"outlinewidth\":0,\"ticks\":\"\"}}],\"contour\":[{\"type\":\"contour\",\"colorbar\":{\"outlinewidth\":0,\"ticks\":\"\"},\"colorscale\":[[0.0,\"#0d0887\"],[0.1111111111111111,\"#46039f\"],[0.2222222222222222,\"#7201a8\"],[0.3333333333333333,\"#9c179e\"],[0.4444444444444444,\"#bd3786\"],[0.5555555555555556,\"#d8576b\"],[0.6666666666666666,\"#ed7953\"],[0.7777777777777778,\"#fb9f3a\"],[0.8888888888888888,\"#fdca26\"],[1.0,\"#f0f921\"]]}],\"surface\":[{\"type\":\"surface\",\"colorbar\":{\"outlinewidth\":0,\"ticks\":\"\"},\"colorscale\":[[0.0,\"#0d0887\"],[0.1111111111111111,\"#46039f\"],[0.2222222222222222,\"#7201a8\"],[0.3333333333333333,\"#9c179e\"],[0.4444444444444444,\"#bd3786\"],[0.5555555555555556,\"#d8576b\"],[0.6666666666666666,\"#ed7953\"],[0.7777777777777778,\"#fb9f3a\"],[0.8888888888888888,\"#fdca26\"],[1.0,\"#f0f921\"]]}],\"mesh3d\":[{\"type\":\"mesh3d\",\"colorbar\":{\"outlinewidth\":0,\"ticks\":\"\"}}],\"scatter\":[{\"fillpattern\":{\"fillmode\":\"overlay\",\"size\":10,\"solidity\":0.2},\"type\":\"scatter\"}],\"parcoords\":[{\"type\":\"parcoords\",\"line\":{\"colorbar\":{\"outlinewidth\":0,\"ticks\":\"\"}}}],\"scatterpolargl\":[{\"type\":\"scatterpolargl\",\"marker\":{\"colorbar\":{\"outlinewidth\":0,\"ticks\":\"\"}}}],\"bar\":[{\"error_x\":{\"color\":\"#2a3f5f\"},\"error_y\":{\"color\":\"#2a3f5f\"},\"marker\":{\"line\":{\"color\":\"#E5ECF6\",\"width\":0.5},\"pattern\":{\"fillmode\":\"overlay\",\"size\":10,\"solidity\":0.2}},\"type\":\"bar\"}],\"scattergeo\":[{\"type\":\"scattergeo\",\"marker\":{\"colorbar\":{\"outlinewidth\":0,\"ticks\":\"\"}}}],\"scatterpolar\":[{\"type\":\"scatterpolar\",\"marker\":{\"colorbar\":{\"outlinewidth\":0,\"ticks\":\"\"}}}],\"histogram\":[{\"marker\":{\"pattern\":{\"fillmode\":\"overlay\",\"size\":10,\"solidity\":0.2}},\"type\":\"histogram\"}],\"scattergl\":[{\"type\":\"scattergl\",\"marker\":{\"colorbar\":{\"outlinewidth\":0,\"ticks\":\"\"}}}],\"scatter3d\":[{\"type\":\"scatter3d\",\"line\":{\"colorbar\":{\"outlinewidth\":0,\"ticks\":\"\"}},\"marker\":{\"colorbar\":{\"outlinewidth\":0,\"ticks\":\"\"}}}],\"scattermapbox\":[{\"type\":\"scattermapbox\",\"marker\":{\"colorbar\":{\"outlinewidth\":0,\"ticks\":\"\"}}}],\"scatterternary\":[{\"type\":\"scatterternary\",\"marker\":{\"colorbar\":{\"outlinewidth\":0,\"ticks\":\"\"}}}],\"scattercarpet\":[{\"type\":\"scattercarpet\",\"marker\":{\"colorbar\":{\"outlinewidth\":0,\"ticks\":\"\"}}}],\"carpet\":[{\"aaxis\":{\"endlinecolor\":\"#2a3f5f\",\"gridcolor\":\"white\",\"linecolor\":\"white\",\"minorgridcolor\":\"white\",\"startlinecolor\":\"#2a3f5f\"},\"baxis\":{\"endlinecolor\":\"#2a3f5f\",\"gridcolor\":\"white\",\"linecolor\":\"white\",\"minorgridcolor\":\"white\",\"startlinecolor\":\"#2a3f5f\"},\"type\":\"carpet\"}],\"table\":[{\"cells\":{\"fill\":{\"color\":\"#EBF0F8\"},\"line\":{\"color\":\"white\"}},\"header\":{\"fill\":{\"color\":\"#C8D4E3\"},\"line\":{\"color\":\"white\"}},\"type\":\"table\"}],\"barpolar\":[{\"marker\":{\"line\":{\"color\":\"#E5ECF6\",\"width\":0.5},\"pattern\":{\"fillmode\":\"overlay\",\"size\":10,\"solidity\":0.2}},\"type\":\"barpolar\"}],\"pie\":[{\"automargin\":true,\"type\":\"pie\"}]},\"layout\":{\"autotypenumbers\":\"strict\",\"colorway\":[\"#636efa\",\"#EF553B\",\"#00cc96\",\"#ab63fa\",\"#FFA15A\",\"#19d3f3\",\"#FF6692\",\"#B6E880\",\"#FF97FF\",\"#FECB52\"],\"font\":{\"color\":\"#2a3f5f\"},\"hovermode\":\"closest\",\"hoverlabel\":{\"align\":\"left\"},\"paper_bgcolor\":\"white\",\"plot_bgcolor\":\"#E5ECF6\",\"polar\":{\"bgcolor\":\"#E5ECF6\",\"angularaxis\":{\"gridcolor\":\"white\",\"linecolor\":\"white\",\"ticks\":\"\"},\"radialaxis\":{\"gridcolor\":\"white\",\"linecolor\":\"white\",\"ticks\":\"\"}},\"ternary\":{\"bgcolor\":\"#E5ECF6\",\"aaxis\":{\"gridcolor\":\"white\",\"linecolor\":\"white\",\"ticks\":\"\"},\"baxis\":{\"gridcolor\":\"white\",\"linecolor\":\"white\",\"ticks\":\"\"},\"caxis\":{\"gridcolor\":\"white\",\"linecolor\":\"white\",\"ticks\":\"\"}},\"coloraxis\":{\"colorbar\":{\"outlinewidth\":0,\"ticks\":\"\"}},\"colorscale\":{\"sequential\":[[0.0,\"#0d0887\"],[0.1111111111111111,\"#46039f\"],[0.2222222222222222,\"#7201a8\"],[0.3333333333333333,\"#9c179e\"],[0.4444444444444444,\"#bd3786\"],[0.5555555555555556,\"#d8576b\"],[0.6666666666666666,\"#ed7953\"],[0.7777777777777778,\"#fb9f3a\"],[0.8888888888888888,\"#fdca26\"],[1.0,\"#f0f921\"]],\"sequentialminus\":[[0.0,\"#0d0887\"],[0.1111111111111111,\"#46039f\"],[0.2222222222222222,\"#7201a8\"],[0.3333333333333333,\"#9c179e\"],[0.4444444444444444,\"#bd3786\"],[0.5555555555555556,\"#d8576b\"],[0.6666666666666666,\"#ed7953\"],[0.7777777777777778,\"#fb9f3a\"],[0.8888888888888888,\"#fdca26\"],[1.0,\"#f0f921\"]],\"diverging\":[[0,\"#8e0152\"],[0.1,\"#c51b7d\"],[0.2,\"#de77ae\"],[0.3,\"#f1b6da\"],[0.4,\"#fde0ef\"],[0.5,\"#f7f7f7\"],[0.6,\"#e6f5d0\"],[0.7,\"#b8e186\"],[0.8,\"#7fbc41\"],[0.9,\"#4d9221\"],[1,\"#276419\"]]},\"xaxis\":{\"gridcolor\":\"white\",\"linecolor\":\"white\",\"ticks\":\"\",\"title\":{\"standoff\":15},\"zerolinecolor\":\"white\",\"automargin\":true,\"zerolinewidth\":2},\"yaxis\":{\"gridcolor\":\"white\",\"linecolor\":\"white\",\"ticks\":\"\",\"title\":{\"standoff\":15},\"zerolinecolor\":\"white\",\"automargin\":true,\"zerolinewidth\":2},\"scene\":{\"xaxis\":{\"backgroundcolor\":\"#E5ECF6\",\"gridcolor\":\"white\",\"linecolor\":\"white\",\"showbackground\":true,\"ticks\":\"\",\"zerolinecolor\":\"white\",\"gridwidth\":2},\"yaxis\":{\"backgroundcolor\":\"#E5ECF6\",\"gridcolor\":\"white\",\"linecolor\":\"white\",\"showbackground\":true,\"ticks\":\"\",\"zerolinecolor\":\"white\",\"gridwidth\":2},\"zaxis\":{\"backgroundcolor\":\"#E5ECF6\",\"gridcolor\":\"white\",\"linecolor\":\"white\",\"showbackground\":true,\"ticks\":\"\",\"zerolinecolor\":\"white\",\"gridwidth\":2}},\"shapedefaults\":{\"line\":{\"color\":\"#2a3f5f\"}},\"annotationdefaults\":{\"arrowcolor\":\"#2a3f5f\",\"arrowhead\":0,\"arrowwidth\":1},\"geo\":{\"bgcolor\":\"white\",\"landcolor\":\"#E5ECF6\",\"subunitcolor\":\"white\",\"showland\":true,\"showlakes\":true,\"lakecolor\":\"white\"},\"title\":{\"x\":0.05},\"mapbox\":{\"style\":\"light\"}}},\"font\":{\"family\":\"EB Garamond, serif\",\"size\":12,\"color\":\"black\"},\"title\":{\"font\":{\"family\":\"EB Garamond, serif\",\"size\":12,\"color\":\"black\"},\"text\":\"Distribution of chemicals linked by random forest algorithm with anti-\\u003ci\\u003eSalmonella Typhimurium\\u003c\\u002fi\\u003e activity of essential oils\",\"x\":0.5},\"legend\":{\"title\":{\"font\":{\"family\":\"EB Garamond, serif\",\"size\":12,\"color\":\"black\"}},\"font\":{\"family\":\"EB Garamond, serif\",\"size\":12,\"color\":\"black\"}}},                        {\"responsive\": true}                    ).then(function(){\n",
       "                            \n",
       "var gd = document.getElementById('3d4d2a93-b31c-4cf8-8d68-22f7f805efaa');\n",
       "var x = new MutationObserver(function (mutations, observer) {{\n",
       "        var display = window.getComputedStyle(gd).display;\n",
       "        if (!display || display === 'none') {{\n",
       "            console.log([gd, 'removed!']);\n",
       "            Plotly.purge(gd);\n",
       "            observer.disconnect();\n",
       "        }}\n",
       "}});\n",
       "\n",
       "// Listen for the removal of the full notebook cells\n",
       "var notebookContainer = gd.closest('#notebook-container');\n",
       "if (notebookContainer) {{\n",
       "    x.observe(notebookContainer, {childList: true});\n",
       "}}\n",
       "\n",
       "// Listen for the clearing of the current output cell\n",
       "var outputEl = gd.closest('.output');\n",
       "if (outputEl) {{\n",
       "    x.observe(outputEl, {childList: true});\n",
       "}}\n",
       "\n",
       "                        })                };                });            </script>        </div>"
      ]
     },
     "metadata": {},
     "output_type": "display_data"
    },
    {
     "name": "stdout",
     "output_type": "stream",
     "text": [
      "Image saved to charts/chemicals_linked_with_anti_salmonella_activity.png\n"
     ]
    }
   ],
   "source": [
    "import pandas as pd\n",
    "import plotly.express as px\n",
    "import plotly.graph_objects as go\n",
    "from plotly.io import write_image\n",
    "\n",
    "\n",
    "# Define the base path and the list of file identifiers\n",
    "base_path = \"features/\"\n",
    "file_ids = [875, 1607, 1750, 1602, 1365, 1853, 1930, 741]\n",
    "\n",
    "# Initialize an empty list to hold the chemical names from all files\n",
    "all_chemical_names = []\n",
    "\n",
    "# Iterate through the list of file identifiers\n",
    "for file_id in file_ids:\n",
    "    # Construct the filename using the corrected pattern\n",
    "    filename = f\"{base_path}Bit_{file_id}_updated.csv\"\n",
    "    \n",
    "    # Read the CSV file\n",
    "    try:\n",
    "        df = pd.read_csv(filename)\n",
    "        \n",
    "        # Extract the 'Chemical_name' column and add it to the list\n",
    "        all_chemical_names.extend(df['Chemical_name'].tolist())\n",
    "    except FileNotFoundError:\n",
    "        print(f\"File not found: {filename}\")\n",
    "    except Exception as e:\n",
    "        print(f\"Error reading file {filename}: {e}\")\n",
    "\n",
    "# Convert the list of chemical names to a DataFrame for easy counting\n",
    "chemical_names_df = pd.DataFrame(all_chemical_names, columns=['Chemical_name'])\n",
    "\n",
    "# Count the occurrences of each chemical name\n",
    "chemical_name_counts = chemical_names_df['Chemical_name'].value_counts()\n",
    "\n",
    "# Print the counts\n",
    "print(chemical_name_counts)\n",
    "\n",
    "# Filter the counts to separate those chemicals present more than 6 times\n",
    "more_than_three = chemical_name_counts[chemical_name_counts > 6]\n",
    "others_count = chemical_name_counts[chemical_name_counts <= 6].sum()\n",
    "\n",
    "# Adding the \"Others\" category\n",
    "if others_count > 0:\n",
    "    more_than_three = more_than_three.append(pd.Series(others_count, index=['Others']))\n",
    "\n",
    "\n",
    "# Convert to DataFrame for Plotly\n",
    "df_more_than_three = more_than_three.reset_index()\n",
    "df_more_than_three.columns = ['Chemical', 'Count']\n",
    "\n",
    "# Define a custom color palette\n",
    "colors = ['#FEBFB3', '#E1396C', '#96D38C', '#D0F9B1', '#FAD0C4', '#FF9F9A', '#FAB0E4']\n",
    "\n",
    "# Creating the pie chart with uniformly separated slices\n",
    "fig = go.Figure(data=[go.Pie(labels=df_more_than_three['Chemical'],\n",
    "                             values=df_more_than_three['Count'],\n",
    "                             pull=0.05,  # Uniformly pull away all slices\n",
    "                             marker_colors=colors,\n",
    "                             textinfo='percent+label',\n",
    "                             outsidetextfont=dict(size=12),  # Ensure outside text is visible\n",
    "                             textposition='outside',  # Place labels outside with lines connecting to slices\n",
    "                             hoverinfo='label+percent',\n",
    "                             insidetextorientation='radial',\n",
    "                            )])\n",
    "\n",
    "# Update the layout with the desired title and font settings\n",
    "fig.update_layout(\n",
    "    font=dict(family=\"EB Garamond, serif\", size=12, color=\"black\"),\n",
    "    title=dict(text='Distribution of chemicals linked by random forest algorithm with anti-<i>Salmonella Typhimurium</i> activity of essential oils',\n",
    "               x=0.5,\n",
    "               font=dict(family=\"EB Garamond, serif\", size=12, color=\"black\")),\n",
    "    legend_title_font=dict(family=\"EB Garamond, serif\", size=12, color=\"black\"),\n",
    "    legend_font=dict(family=\"EB Garamond, serif\", size=12, color=\"black\")\n",
    ")\n",
    "\n",
    "# Show the figure\n",
    "fig.show()\n",
    "\n",
    "file_path = \"charts/chemicals_linked_with_anti_salmonella_activity.png\"\n",
    "fig.write_image(file_path, scale=3)\n",
    "\n",
    "print(f\"Image saved to {file_path}\")"
   ]
  },
  {
   "cell_type": "code",
   "execution_count": null,
   "id": "ecc2f684",
   "metadata": {},
   "outputs": [],
   "source": []
  },
  {
   "cell_type": "markdown",
   "id": "3bc3334f",
   "metadata": {},
   "source": [
    "Visualizing  Distribution of chemicals linked by machine learning algorithm with no anti-<i>Salmonella Typhimurium</i> activity of essential oils\n"
   ]
  },
  {
   "cell_type": "code",
   "execution_count": 95,
   "id": "382000a2",
   "metadata": {},
   "outputs": [
    {
     "name": "stdout",
     "output_type": "stream",
     "text": [
      "Data saved to INactive_against_salmoella.csv\n"
     ]
    }
   ],
   "source": [
    "import pandas as pd\n",
    "from ast import literal_eval\n",
    "\n",
    "# Define the base path and the list of file identifiers\n",
    "base_path = \"/Users/mariiakokina/Documents/eo_database/SOM/features/\"\n",
    "file_ids = [1309, 1574, 383, 1950, 171, 549, 287]\n",
    "\n",
    "\n",
    "\n",
    "# Initialize a dictionary to hold the structures, their corresponding chemical names, and file bit numbers\n",
    "structures_to_names_and_bits = {}\n",
    "\n",
    "# Iterate through the list of file identifiers\n",
    "for file_id in file_ids:\n",
    "    # Construct the filename\n",
    "    filename = f\"{base_path}Bit_{file_id}_updated.csv\"\n",
    "    \n",
    "    # Read the CSV file\n",
    "    try:\n",
    "        df = pd.read_csv(filename)\n",
    "        \n",
    "        # Iterate over each row in the dataframe\n",
    "        for index, row in df.iterrows():\n",
    "            # Safely evaluate the string representation of the list in BitInterpretations column\n",
    "            tuples_list = literal_eval(row['BitInterpretations'])\n",
    "            \n",
    "            # Extract the fourth element (structure) from each tuple\n",
    "            for tup in tuples_list:\n",
    "                structure = tup[3]\n",
    "                chemical_name = row['Chemical_name']\n",
    "                \n",
    "                # Initialize dictionary entry if not present\n",
    "                if structure not in structures_to_names_and_bits:\n",
    "                    structures_to_names_and_bits[structure] = {'names': set(), 'bits': []}\n",
    "                \n",
    "                # Add the chemical name to the set (to avoid duplicates) and bit number to the list\n",
    "                structures_to_names_and_bits[structure]['names'].add(chemical_name)\n",
    "                if file_id not in structures_to_names_and_bits[structure]['bits']:\n",
    "                    structures_to_names_and_bits[structure]['bits'].append(file_id)\n",
    "    except FileNotFoundError:\n",
    "        print(f\"File not found: {filename}\")\n",
    "    except Exception as e:\n",
    "        print(f\"Error reading file {filename}: {e}\")\n",
    "\n",
    "# Prepare data for DataFrame\n",
    "data_for_df = []\n",
    "for structure, info in structures_to_names_and_bits.items():\n",
    "    # Convert bit numbers list to a string for display\n",
    "    bits_str = ', '.join(map(str, info['bits']))\n",
    "    # Append tuple for each structure with its bit numbers, count of unique names, and concatenated chemical names\n",
    "    data_for_df.append((structure, bits_str, len(info['names']), ', '.join(info['names'])))\n",
    "\n",
    "# Create a DataFrame\n",
    "df_structures_names_bits = pd.DataFrame(data_for_df, columns=['Substructure', 'Morgan Fingerprint Bit Number', 'Number of Occurrences', 'Chemical'])\n",
    "\n",
    "# Save the DataFrame to a CSV file\n",
    "csv_file_path = \"INactive_against_salmoella.csv\"\n",
    "df_structures_names_bits.to_csv(csv_file_path, index=False)\n",
    "\n",
    "print(f\"Data saved to {csv_file_path}\")\n"
   ]
  },
  {
   "cell_type": "code",
   "execution_count": 109,
   "id": "57255470",
   "metadata": {},
   "outputs": [
    {
     "name": "stdout",
     "output_type": "stream",
     "text": [
      "alpha-Pinene               64\n",
      "Linalool                   31\n",
      "beta-Pinene                30\n",
      "delta-3-Carene             15\n",
      "Geranial                   12\n",
      "Linalyl acetate            10\n",
      "Neral                      10\n",
      "Geraniol                    8\n",
      "alpha-Phellandrene          5\n",
      "Myrcene                     4\n",
      "Citronellol                 4\n",
      "Menthone                    4\n",
      "(-)-Citronellal             3\n",
      "Isopinocamphone             3\n",
      "alpha-Copaene               2\n",
      "Bicyclogermacrene           2\n",
      "alpha-Eudesmol              2\n",
      "(E,Z)-alpha-Farnesene       2\n",
      "Viridiflorene               2\n",
      "Menthol                     2\n",
      "Ledol                       2\n",
      "beta-Bisabolene (tent.)     2\n",
      "Neryl acetate               2\n",
      "Isomenthone                 2\n",
      "Geranyl acetate             2\n",
      "Isodiosphenol               2\n",
      "beta-Eudesmol               1\n",
      "Cubenol                     1\n",
      "Farnesyl acetate            1\n",
      "Geranyllinalool             1\n",
      "Geranic acid                1\n",
      "Dill ether                  1\n",
      "Citronellyl acetate         1\n",
      "(Z)-beta-Farnesene          1\n",
      "(E,E)-Farnesol              1\n",
      "(E)-Nerolidol               1\n",
      "beta-Thujone                1\n",
      "alpha-Thujone               1\n",
      "Valencene                   1\n",
      "Hinesol                     1\n",
      "Guaiol                      1\n",
      "Guai-6-en-10beta-ol         1\n",
      "Name: Chemical_name, dtype: int64\n"
     ]
    },
    {
     "name": "stderr",
     "output_type": "stream",
     "text": [
      "/var/folders/x1/3wgmd54s6b7f7xc3rq_f0tdw0000gn/T/ipykernel_41099/799418879.py:47: FutureWarning:\n",
      "\n",
      "The series.append method is deprecated and will be removed from pandas in a future version. Use pandas.concat instead.\n",
      "\n"
     ]
    },
    {
     "data": {
      "application/vnd.plotly.v1+json": {
       "config": {
        "plotlyServerURL": "https://plot.ly"
       },
       "data": [
        {
         "hoverinfo": "label+percent",
         "insidetextorientation": "radial",
         "labels": [
          "alpha-Pinene",
          "Linalool",
          "beta-Pinene",
          "delta-3-Carene",
          "Geranial",
          "Others"
         ],
         "marker": {
          "colors": [
           "#FEBFB3",
           "#E1396C",
           "#96D38C",
           "#D0F9B1",
           "#FAD0C4",
           "#FF9F9A",
           "#FAB0E4"
          ]
         },
         "outsidetextfont": {
          "size": 12
         },
         "pull": 0.05,
         "textinfo": "percent+label",
         "textposition": "outside",
         "type": "pie",
         "values": [
          64,
          31,
          30,
          15,
          12,
          91
         ]
        }
       ],
       "layout": {
        "font": {
         "color": "black",
         "family": "EB Garamond, serif",
         "size": 12
        },
        "legend": {
         "font": {
          "color": "black",
          "family": "EB Garamond, serif",
          "size": 12
         },
         "orientation": "v",
         "title": {
          "font": {
           "color": "black",
           "family": "EB Garamond, serif",
           "size": 12
          }
         },
         "x": 1.5,
         "xanchor": "right",
         "y": 0.5,
         "yanchor": "bottom"
        },
        "template": {
         "data": {
          "bar": [
           {
            "error_x": {
             "color": "#2a3f5f"
            },
            "error_y": {
             "color": "#2a3f5f"
            },
            "marker": {
             "line": {
              "color": "#E5ECF6",
              "width": 0.5
             },
             "pattern": {
              "fillmode": "overlay",
              "size": 10,
              "solidity": 0.2
             }
            },
            "type": "bar"
           }
          ],
          "barpolar": [
           {
            "marker": {
             "line": {
              "color": "#E5ECF6",
              "width": 0.5
             },
             "pattern": {
              "fillmode": "overlay",
              "size": 10,
              "solidity": 0.2
             }
            },
            "type": "barpolar"
           }
          ],
          "carpet": [
           {
            "aaxis": {
             "endlinecolor": "#2a3f5f",
             "gridcolor": "white",
             "linecolor": "white",
             "minorgridcolor": "white",
             "startlinecolor": "#2a3f5f"
            },
            "baxis": {
             "endlinecolor": "#2a3f5f",
             "gridcolor": "white",
             "linecolor": "white",
             "minorgridcolor": "white",
             "startlinecolor": "#2a3f5f"
            },
            "type": "carpet"
           }
          ],
          "choropleth": [
           {
            "colorbar": {
             "outlinewidth": 0,
             "ticks": ""
            },
            "type": "choropleth"
           }
          ],
          "contour": [
           {
            "colorbar": {
             "outlinewidth": 0,
             "ticks": ""
            },
            "colorscale": [
             [
              0,
              "#0d0887"
             ],
             [
              0.1111111111111111,
              "#46039f"
             ],
             [
              0.2222222222222222,
              "#7201a8"
             ],
             [
              0.3333333333333333,
              "#9c179e"
             ],
             [
              0.4444444444444444,
              "#bd3786"
             ],
             [
              0.5555555555555556,
              "#d8576b"
             ],
             [
              0.6666666666666666,
              "#ed7953"
             ],
             [
              0.7777777777777778,
              "#fb9f3a"
             ],
             [
              0.8888888888888888,
              "#fdca26"
             ],
             [
              1,
              "#f0f921"
             ]
            ],
            "type": "contour"
           }
          ],
          "contourcarpet": [
           {
            "colorbar": {
             "outlinewidth": 0,
             "ticks": ""
            },
            "type": "contourcarpet"
           }
          ],
          "heatmap": [
           {
            "colorbar": {
             "outlinewidth": 0,
             "ticks": ""
            },
            "colorscale": [
             [
              0,
              "#0d0887"
             ],
             [
              0.1111111111111111,
              "#46039f"
             ],
             [
              0.2222222222222222,
              "#7201a8"
             ],
             [
              0.3333333333333333,
              "#9c179e"
             ],
             [
              0.4444444444444444,
              "#bd3786"
             ],
             [
              0.5555555555555556,
              "#d8576b"
             ],
             [
              0.6666666666666666,
              "#ed7953"
             ],
             [
              0.7777777777777778,
              "#fb9f3a"
             ],
             [
              0.8888888888888888,
              "#fdca26"
             ],
             [
              1,
              "#f0f921"
             ]
            ],
            "type": "heatmap"
           }
          ],
          "heatmapgl": [
           {
            "colorbar": {
             "outlinewidth": 0,
             "ticks": ""
            },
            "colorscale": [
             [
              0,
              "#0d0887"
             ],
             [
              0.1111111111111111,
              "#46039f"
             ],
             [
              0.2222222222222222,
              "#7201a8"
             ],
             [
              0.3333333333333333,
              "#9c179e"
             ],
             [
              0.4444444444444444,
              "#bd3786"
             ],
             [
              0.5555555555555556,
              "#d8576b"
             ],
             [
              0.6666666666666666,
              "#ed7953"
             ],
             [
              0.7777777777777778,
              "#fb9f3a"
             ],
             [
              0.8888888888888888,
              "#fdca26"
             ],
             [
              1,
              "#f0f921"
             ]
            ],
            "type": "heatmapgl"
           }
          ],
          "histogram": [
           {
            "marker": {
             "pattern": {
              "fillmode": "overlay",
              "size": 10,
              "solidity": 0.2
             }
            },
            "type": "histogram"
           }
          ],
          "histogram2d": [
           {
            "colorbar": {
             "outlinewidth": 0,
             "ticks": ""
            },
            "colorscale": [
             [
              0,
              "#0d0887"
             ],
             [
              0.1111111111111111,
              "#46039f"
             ],
             [
              0.2222222222222222,
              "#7201a8"
             ],
             [
              0.3333333333333333,
              "#9c179e"
             ],
             [
              0.4444444444444444,
              "#bd3786"
             ],
             [
              0.5555555555555556,
              "#d8576b"
             ],
             [
              0.6666666666666666,
              "#ed7953"
             ],
             [
              0.7777777777777778,
              "#fb9f3a"
             ],
             [
              0.8888888888888888,
              "#fdca26"
             ],
             [
              1,
              "#f0f921"
             ]
            ],
            "type": "histogram2d"
           }
          ],
          "histogram2dcontour": [
           {
            "colorbar": {
             "outlinewidth": 0,
             "ticks": ""
            },
            "colorscale": [
             [
              0,
              "#0d0887"
             ],
             [
              0.1111111111111111,
              "#46039f"
             ],
             [
              0.2222222222222222,
              "#7201a8"
             ],
             [
              0.3333333333333333,
              "#9c179e"
             ],
             [
              0.4444444444444444,
              "#bd3786"
             ],
             [
              0.5555555555555556,
              "#d8576b"
             ],
             [
              0.6666666666666666,
              "#ed7953"
             ],
             [
              0.7777777777777778,
              "#fb9f3a"
             ],
             [
              0.8888888888888888,
              "#fdca26"
             ],
             [
              1,
              "#f0f921"
             ]
            ],
            "type": "histogram2dcontour"
           }
          ],
          "mesh3d": [
           {
            "colorbar": {
             "outlinewidth": 0,
             "ticks": ""
            },
            "type": "mesh3d"
           }
          ],
          "parcoords": [
           {
            "line": {
             "colorbar": {
              "outlinewidth": 0,
              "ticks": ""
             }
            },
            "type": "parcoords"
           }
          ],
          "pie": [
           {
            "automargin": true,
            "type": "pie"
           }
          ],
          "scatter": [
           {
            "fillpattern": {
             "fillmode": "overlay",
             "size": 10,
             "solidity": 0.2
            },
            "type": "scatter"
           }
          ],
          "scatter3d": [
           {
            "line": {
             "colorbar": {
              "outlinewidth": 0,
              "ticks": ""
             }
            },
            "marker": {
             "colorbar": {
              "outlinewidth": 0,
              "ticks": ""
             }
            },
            "type": "scatter3d"
           }
          ],
          "scattercarpet": [
           {
            "marker": {
             "colorbar": {
              "outlinewidth": 0,
              "ticks": ""
             }
            },
            "type": "scattercarpet"
           }
          ],
          "scattergeo": [
           {
            "marker": {
             "colorbar": {
              "outlinewidth": 0,
              "ticks": ""
             }
            },
            "type": "scattergeo"
           }
          ],
          "scattergl": [
           {
            "marker": {
             "colorbar": {
              "outlinewidth": 0,
              "ticks": ""
             }
            },
            "type": "scattergl"
           }
          ],
          "scattermapbox": [
           {
            "marker": {
             "colorbar": {
              "outlinewidth": 0,
              "ticks": ""
             }
            },
            "type": "scattermapbox"
           }
          ],
          "scatterpolar": [
           {
            "marker": {
             "colorbar": {
              "outlinewidth": 0,
              "ticks": ""
             }
            },
            "type": "scatterpolar"
           }
          ],
          "scatterpolargl": [
           {
            "marker": {
             "colorbar": {
              "outlinewidth": 0,
              "ticks": ""
             }
            },
            "type": "scatterpolargl"
           }
          ],
          "scatterternary": [
           {
            "marker": {
             "colorbar": {
              "outlinewidth": 0,
              "ticks": ""
             }
            },
            "type": "scatterternary"
           }
          ],
          "surface": [
           {
            "colorbar": {
             "outlinewidth": 0,
             "ticks": ""
            },
            "colorscale": [
             [
              0,
              "#0d0887"
             ],
             [
              0.1111111111111111,
              "#46039f"
             ],
             [
              0.2222222222222222,
              "#7201a8"
             ],
             [
              0.3333333333333333,
              "#9c179e"
             ],
             [
              0.4444444444444444,
              "#bd3786"
             ],
             [
              0.5555555555555556,
              "#d8576b"
             ],
             [
              0.6666666666666666,
              "#ed7953"
             ],
             [
              0.7777777777777778,
              "#fb9f3a"
             ],
             [
              0.8888888888888888,
              "#fdca26"
             ],
             [
              1,
              "#f0f921"
             ]
            ],
            "type": "surface"
           }
          ],
          "table": [
           {
            "cells": {
             "fill": {
              "color": "#EBF0F8"
             },
             "line": {
              "color": "white"
             }
            },
            "header": {
             "fill": {
              "color": "#C8D4E3"
             },
             "line": {
              "color": "white"
             }
            },
            "type": "table"
           }
          ]
         },
         "layout": {
          "annotationdefaults": {
           "arrowcolor": "#2a3f5f",
           "arrowhead": 0,
           "arrowwidth": 1
          },
          "autotypenumbers": "strict",
          "coloraxis": {
           "colorbar": {
            "outlinewidth": 0,
            "ticks": ""
           }
          },
          "colorscale": {
           "diverging": [
            [
             0,
             "#8e0152"
            ],
            [
             0.1,
             "#c51b7d"
            ],
            [
             0.2,
             "#de77ae"
            ],
            [
             0.3,
             "#f1b6da"
            ],
            [
             0.4,
             "#fde0ef"
            ],
            [
             0.5,
             "#f7f7f7"
            ],
            [
             0.6,
             "#e6f5d0"
            ],
            [
             0.7,
             "#b8e186"
            ],
            [
             0.8,
             "#7fbc41"
            ],
            [
             0.9,
             "#4d9221"
            ],
            [
             1,
             "#276419"
            ]
           ],
           "sequential": [
            [
             0,
             "#0d0887"
            ],
            [
             0.1111111111111111,
             "#46039f"
            ],
            [
             0.2222222222222222,
             "#7201a8"
            ],
            [
             0.3333333333333333,
             "#9c179e"
            ],
            [
             0.4444444444444444,
             "#bd3786"
            ],
            [
             0.5555555555555556,
             "#d8576b"
            ],
            [
             0.6666666666666666,
             "#ed7953"
            ],
            [
             0.7777777777777778,
             "#fb9f3a"
            ],
            [
             0.8888888888888888,
             "#fdca26"
            ],
            [
             1,
             "#f0f921"
            ]
           ],
           "sequentialminus": [
            [
             0,
             "#0d0887"
            ],
            [
             0.1111111111111111,
             "#46039f"
            ],
            [
             0.2222222222222222,
             "#7201a8"
            ],
            [
             0.3333333333333333,
             "#9c179e"
            ],
            [
             0.4444444444444444,
             "#bd3786"
            ],
            [
             0.5555555555555556,
             "#d8576b"
            ],
            [
             0.6666666666666666,
             "#ed7953"
            ],
            [
             0.7777777777777778,
             "#fb9f3a"
            ],
            [
             0.8888888888888888,
             "#fdca26"
            ],
            [
             1,
             "#f0f921"
            ]
           ]
          },
          "colorway": [
           "#636efa",
           "#EF553B",
           "#00cc96",
           "#ab63fa",
           "#FFA15A",
           "#19d3f3",
           "#FF6692",
           "#B6E880",
           "#FF97FF",
           "#FECB52"
          ],
          "font": {
           "color": "#2a3f5f"
          },
          "geo": {
           "bgcolor": "white",
           "lakecolor": "white",
           "landcolor": "#E5ECF6",
           "showlakes": true,
           "showland": true,
           "subunitcolor": "white"
          },
          "hoverlabel": {
           "align": "left"
          },
          "hovermode": "closest",
          "mapbox": {
           "style": "light"
          },
          "paper_bgcolor": "white",
          "plot_bgcolor": "#E5ECF6",
          "polar": {
           "angularaxis": {
            "gridcolor": "white",
            "linecolor": "white",
            "ticks": ""
           },
           "bgcolor": "#E5ECF6",
           "radialaxis": {
            "gridcolor": "white",
            "linecolor": "white",
            "ticks": ""
           }
          },
          "scene": {
           "xaxis": {
            "backgroundcolor": "#E5ECF6",
            "gridcolor": "white",
            "gridwidth": 2,
            "linecolor": "white",
            "showbackground": true,
            "ticks": "",
            "zerolinecolor": "white"
           },
           "yaxis": {
            "backgroundcolor": "#E5ECF6",
            "gridcolor": "white",
            "gridwidth": 2,
            "linecolor": "white",
            "showbackground": true,
            "ticks": "",
            "zerolinecolor": "white"
           },
           "zaxis": {
            "backgroundcolor": "#E5ECF6",
            "gridcolor": "white",
            "gridwidth": 2,
            "linecolor": "white",
            "showbackground": true,
            "ticks": "",
            "zerolinecolor": "white"
           }
          },
          "shapedefaults": {
           "line": {
            "color": "#2a3f5f"
           }
          },
          "ternary": {
           "aaxis": {
            "gridcolor": "white",
            "linecolor": "white",
            "ticks": ""
           },
           "baxis": {
            "gridcolor": "white",
            "linecolor": "white",
            "ticks": ""
           },
           "bgcolor": "#E5ECF6",
           "caxis": {
            "gridcolor": "white",
            "linecolor": "white",
            "ticks": ""
           }
          },
          "title": {
           "x": 0.05
          },
          "xaxis": {
           "automargin": true,
           "gridcolor": "white",
           "linecolor": "white",
           "ticks": "",
           "title": {
            "standoff": 15
           },
           "zerolinecolor": "white",
           "zerolinewidth": 2
          },
          "yaxis": {
           "automargin": true,
           "gridcolor": "white",
           "linecolor": "white",
           "ticks": "",
           "title": {
            "standoff": 15
           },
           "zerolinecolor": "white",
           "zerolinewidth": 2
          }
         }
        },
        "title": {
         "font": {
          "color": "black",
          "family": "EB Garamond, serif",
          "size": 12
         },
         "text": "Distribution of chemicals contributing to the random forest algorithm’s classification <br> of essential oils as inactive against <i>Salmonella Typhimurium</i>",
         "x": 0.5
        }
       }
      },
      "text/html": [
       "<div>                            <div id=\"03ba7720-93fe-4603-9939-374c7d7a2887\" class=\"plotly-graph-div\" style=\"height:525px; width:100%;\"></div>            <script type=\"text/javascript\">                require([\"plotly\"], function(Plotly) {                    window.PLOTLYENV=window.PLOTLYENV || {};                                    if (document.getElementById(\"03ba7720-93fe-4603-9939-374c7d7a2887\")) {                    Plotly.newPlot(                        \"03ba7720-93fe-4603-9939-374c7d7a2887\",                        [{\"hoverinfo\":\"label+percent\",\"insidetextorientation\":\"radial\",\"labels\":[\"alpha-Pinene\",\"Linalool\",\"beta-Pinene\",\"delta-3-Carene\",\"Geranial\",\"Others\"],\"marker\":{\"colors\":[\"#FEBFB3\",\"#E1396C\",\"#96D38C\",\"#D0F9B1\",\"#FAD0C4\",\"#FF9F9A\",\"#FAB0E4\"]},\"outsidetextfont\":{\"size\":12},\"pull\":0.05,\"textinfo\":\"percent+label\",\"textposition\":\"outside\",\"values\":[64,31,30,15,12,91],\"type\":\"pie\"}],                        {\"template\":{\"data\":{\"histogram2dcontour\":[{\"type\":\"histogram2dcontour\",\"colorbar\":{\"outlinewidth\":0,\"ticks\":\"\"},\"colorscale\":[[0.0,\"#0d0887\"],[0.1111111111111111,\"#46039f\"],[0.2222222222222222,\"#7201a8\"],[0.3333333333333333,\"#9c179e\"],[0.4444444444444444,\"#bd3786\"],[0.5555555555555556,\"#d8576b\"],[0.6666666666666666,\"#ed7953\"],[0.7777777777777778,\"#fb9f3a\"],[0.8888888888888888,\"#fdca26\"],[1.0,\"#f0f921\"]]}],\"choropleth\":[{\"type\":\"choropleth\",\"colorbar\":{\"outlinewidth\":0,\"ticks\":\"\"}}],\"histogram2d\":[{\"type\":\"histogram2d\",\"colorbar\":{\"outlinewidth\":0,\"ticks\":\"\"},\"colorscale\":[[0.0,\"#0d0887\"],[0.1111111111111111,\"#46039f\"],[0.2222222222222222,\"#7201a8\"],[0.3333333333333333,\"#9c179e\"],[0.4444444444444444,\"#bd3786\"],[0.5555555555555556,\"#d8576b\"],[0.6666666666666666,\"#ed7953\"],[0.7777777777777778,\"#fb9f3a\"],[0.8888888888888888,\"#fdca26\"],[1.0,\"#f0f921\"]]}],\"heatmap\":[{\"type\":\"heatmap\",\"colorbar\":{\"outlinewidth\":0,\"ticks\":\"\"},\"colorscale\":[[0.0,\"#0d0887\"],[0.1111111111111111,\"#46039f\"],[0.2222222222222222,\"#7201a8\"],[0.3333333333333333,\"#9c179e\"],[0.4444444444444444,\"#bd3786\"],[0.5555555555555556,\"#d8576b\"],[0.6666666666666666,\"#ed7953\"],[0.7777777777777778,\"#fb9f3a\"],[0.8888888888888888,\"#fdca26\"],[1.0,\"#f0f921\"]]}],\"heatmapgl\":[{\"type\":\"heatmapgl\",\"colorbar\":{\"outlinewidth\":0,\"ticks\":\"\"},\"colorscale\":[[0.0,\"#0d0887\"],[0.1111111111111111,\"#46039f\"],[0.2222222222222222,\"#7201a8\"],[0.3333333333333333,\"#9c179e\"],[0.4444444444444444,\"#bd3786\"],[0.5555555555555556,\"#d8576b\"],[0.6666666666666666,\"#ed7953\"],[0.7777777777777778,\"#fb9f3a\"],[0.8888888888888888,\"#fdca26\"],[1.0,\"#f0f921\"]]}],\"contourcarpet\":[{\"type\":\"contourcarpet\",\"colorbar\":{\"outlinewidth\":0,\"ticks\":\"\"}}],\"contour\":[{\"type\":\"contour\",\"colorbar\":{\"outlinewidth\":0,\"ticks\":\"\"},\"colorscale\":[[0.0,\"#0d0887\"],[0.1111111111111111,\"#46039f\"],[0.2222222222222222,\"#7201a8\"],[0.3333333333333333,\"#9c179e\"],[0.4444444444444444,\"#bd3786\"],[0.5555555555555556,\"#d8576b\"],[0.6666666666666666,\"#ed7953\"],[0.7777777777777778,\"#fb9f3a\"],[0.8888888888888888,\"#fdca26\"],[1.0,\"#f0f921\"]]}],\"surface\":[{\"type\":\"surface\",\"colorbar\":{\"outlinewidth\":0,\"ticks\":\"\"},\"colorscale\":[[0.0,\"#0d0887\"],[0.1111111111111111,\"#46039f\"],[0.2222222222222222,\"#7201a8\"],[0.3333333333333333,\"#9c179e\"],[0.4444444444444444,\"#bd3786\"],[0.5555555555555556,\"#d8576b\"],[0.6666666666666666,\"#ed7953\"],[0.7777777777777778,\"#fb9f3a\"],[0.8888888888888888,\"#fdca26\"],[1.0,\"#f0f921\"]]}],\"mesh3d\":[{\"type\":\"mesh3d\",\"colorbar\":{\"outlinewidth\":0,\"ticks\":\"\"}}],\"scatter\":[{\"fillpattern\":{\"fillmode\":\"overlay\",\"size\":10,\"solidity\":0.2},\"type\":\"scatter\"}],\"parcoords\":[{\"type\":\"parcoords\",\"line\":{\"colorbar\":{\"outlinewidth\":0,\"ticks\":\"\"}}}],\"scatterpolargl\":[{\"type\":\"scatterpolargl\",\"marker\":{\"colorbar\":{\"outlinewidth\":0,\"ticks\":\"\"}}}],\"bar\":[{\"error_x\":{\"color\":\"#2a3f5f\"},\"error_y\":{\"color\":\"#2a3f5f\"},\"marker\":{\"line\":{\"color\":\"#E5ECF6\",\"width\":0.5},\"pattern\":{\"fillmode\":\"overlay\",\"size\":10,\"solidity\":0.2}},\"type\":\"bar\"}],\"scattergeo\":[{\"type\":\"scattergeo\",\"marker\":{\"colorbar\":{\"outlinewidth\":0,\"ticks\":\"\"}}}],\"scatterpolar\":[{\"type\":\"scatterpolar\",\"marker\":{\"colorbar\":{\"outlinewidth\":0,\"ticks\":\"\"}}}],\"histogram\":[{\"marker\":{\"pattern\":{\"fillmode\":\"overlay\",\"size\":10,\"solidity\":0.2}},\"type\":\"histogram\"}],\"scattergl\":[{\"type\":\"scattergl\",\"marker\":{\"colorbar\":{\"outlinewidth\":0,\"ticks\":\"\"}}}],\"scatter3d\":[{\"type\":\"scatter3d\",\"line\":{\"colorbar\":{\"outlinewidth\":0,\"ticks\":\"\"}},\"marker\":{\"colorbar\":{\"outlinewidth\":0,\"ticks\":\"\"}}}],\"scattermapbox\":[{\"type\":\"scattermapbox\",\"marker\":{\"colorbar\":{\"outlinewidth\":0,\"ticks\":\"\"}}}],\"scatterternary\":[{\"type\":\"scatterternary\",\"marker\":{\"colorbar\":{\"outlinewidth\":0,\"ticks\":\"\"}}}],\"scattercarpet\":[{\"type\":\"scattercarpet\",\"marker\":{\"colorbar\":{\"outlinewidth\":0,\"ticks\":\"\"}}}],\"carpet\":[{\"aaxis\":{\"endlinecolor\":\"#2a3f5f\",\"gridcolor\":\"white\",\"linecolor\":\"white\",\"minorgridcolor\":\"white\",\"startlinecolor\":\"#2a3f5f\"},\"baxis\":{\"endlinecolor\":\"#2a3f5f\",\"gridcolor\":\"white\",\"linecolor\":\"white\",\"minorgridcolor\":\"white\",\"startlinecolor\":\"#2a3f5f\"},\"type\":\"carpet\"}],\"table\":[{\"cells\":{\"fill\":{\"color\":\"#EBF0F8\"},\"line\":{\"color\":\"white\"}},\"header\":{\"fill\":{\"color\":\"#C8D4E3\"},\"line\":{\"color\":\"white\"}},\"type\":\"table\"}],\"barpolar\":[{\"marker\":{\"line\":{\"color\":\"#E5ECF6\",\"width\":0.5},\"pattern\":{\"fillmode\":\"overlay\",\"size\":10,\"solidity\":0.2}},\"type\":\"barpolar\"}],\"pie\":[{\"automargin\":true,\"type\":\"pie\"}]},\"layout\":{\"autotypenumbers\":\"strict\",\"colorway\":[\"#636efa\",\"#EF553B\",\"#00cc96\",\"#ab63fa\",\"#FFA15A\",\"#19d3f3\",\"#FF6692\",\"#B6E880\",\"#FF97FF\",\"#FECB52\"],\"font\":{\"color\":\"#2a3f5f\"},\"hovermode\":\"closest\",\"hoverlabel\":{\"align\":\"left\"},\"paper_bgcolor\":\"white\",\"plot_bgcolor\":\"#E5ECF6\",\"polar\":{\"bgcolor\":\"#E5ECF6\",\"angularaxis\":{\"gridcolor\":\"white\",\"linecolor\":\"white\",\"ticks\":\"\"},\"radialaxis\":{\"gridcolor\":\"white\",\"linecolor\":\"white\",\"ticks\":\"\"}},\"ternary\":{\"bgcolor\":\"#E5ECF6\",\"aaxis\":{\"gridcolor\":\"white\",\"linecolor\":\"white\",\"ticks\":\"\"},\"baxis\":{\"gridcolor\":\"white\",\"linecolor\":\"white\",\"ticks\":\"\"},\"caxis\":{\"gridcolor\":\"white\",\"linecolor\":\"white\",\"ticks\":\"\"}},\"coloraxis\":{\"colorbar\":{\"outlinewidth\":0,\"ticks\":\"\"}},\"colorscale\":{\"sequential\":[[0.0,\"#0d0887\"],[0.1111111111111111,\"#46039f\"],[0.2222222222222222,\"#7201a8\"],[0.3333333333333333,\"#9c179e\"],[0.4444444444444444,\"#bd3786\"],[0.5555555555555556,\"#d8576b\"],[0.6666666666666666,\"#ed7953\"],[0.7777777777777778,\"#fb9f3a\"],[0.8888888888888888,\"#fdca26\"],[1.0,\"#f0f921\"]],\"sequentialminus\":[[0.0,\"#0d0887\"],[0.1111111111111111,\"#46039f\"],[0.2222222222222222,\"#7201a8\"],[0.3333333333333333,\"#9c179e\"],[0.4444444444444444,\"#bd3786\"],[0.5555555555555556,\"#d8576b\"],[0.6666666666666666,\"#ed7953\"],[0.7777777777777778,\"#fb9f3a\"],[0.8888888888888888,\"#fdca26\"],[1.0,\"#f0f921\"]],\"diverging\":[[0,\"#8e0152\"],[0.1,\"#c51b7d\"],[0.2,\"#de77ae\"],[0.3,\"#f1b6da\"],[0.4,\"#fde0ef\"],[0.5,\"#f7f7f7\"],[0.6,\"#e6f5d0\"],[0.7,\"#b8e186\"],[0.8,\"#7fbc41\"],[0.9,\"#4d9221\"],[1,\"#276419\"]]},\"xaxis\":{\"gridcolor\":\"white\",\"linecolor\":\"white\",\"ticks\":\"\",\"title\":{\"standoff\":15},\"zerolinecolor\":\"white\",\"automargin\":true,\"zerolinewidth\":2},\"yaxis\":{\"gridcolor\":\"white\",\"linecolor\":\"white\",\"ticks\":\"\",\"title\":{\"standoff\":15},\"zerolinecolor\":\"white\",\"automargin\":true,\"zerolinewidth\":2},\"scene\":{\"xaxis\":{\"backgroundcolor\":\"#E5ECF6\",\"gridcolor\":\"white\",\"linecolor\":\"white\",\"showbackground\":true,\"ticks\":\"\",\"zerolinecolor\":\"white\",\"gridwidth\":2},\"yaxis\":{\"backgroundcolor\":\"#E5ECF6\",\"gridcolor\":\"white\",\"linecolor\":\"white\",\"showbackground\":true,\"ticks\":\"\",\"zerolinecolor\":\"white\",\"gridwidth\":2},\"zaxis\":{\"backgroundcolor\":\"#E5ECF6\",\"gridcolor\":\"white\",\"linecolor\":\"white\",\"showbackground\":true,\"ticks\":\"\",\"zerolinecolor\":\"white\",\"gridwidth\":2}},\"shapedefaults\":{\"line\":{\"color\":\"#2a3f5f\"}},\"annotationdefaults\":{\"arrowcolor\":\"#2a3f5f\",\"arrowhead\":0,\"arrowwidth\":1},\"geo\":{\"bgcolor\":\"white\",\"landcolor\":\"#E5ECF6\",\"subunitcolor\":\"white\",\"showland\":true,\"showlakes\":true,\"lakecolor\":\"white\"},\"title\":{\"x\":0.05},\"mapbox\":{\"style\":\"light\"}}},\"font\":{\"family\":\"EB Garamond, serif\",\"size\":12,\"color\":\"black\"},\"title\":{\"font\":{\"family\":\"EB Garamond, serif\",\"size\":12,\"color\":\"black\"},\"text\":\"Distribution of chemicals contributing to the random forest algorithm’s classification \\u003cbr\\u003e of essential oils as inactive against \\u003ci\\u003eSalmonella Typhimurium\\u003c\\u002fi\\u003e\",\"x\":0.5},\"legend\":{\"title\":{\"font\":{\"family\":\"EB Garamond, serif\",\"size\":12,\"color\":\"black\"}},\"font\":{\"family\":\"EB Garamond, serif\",\"size\":12,\"color\":\"black\"},\"orientation\":\"v\",\"yanchor\":\"bottom\",\"y\":0.5,\"xanchor\":\"right\",\"x\":1.5}},                        {\"responsive\": true}                    ).then(function(){\n",
       "                            \n",
       "var gd = document.getElementById('03ba7720-93fe-4603-9939-374c7d7a2887');\n",
       "var x = new MutationObserver(function (mutations, observer) {{\n",
       "        var display = window.getComputedStyle(gd).display;\n",
       "        if (!display || display === 'none') {{\n",
       "            console.log([gd, 'removed!']);\n",
       "            Plotly.purge(gd);\n",
       "            observer.disconnect();\n",
       "        }}\n",
       "}});\n",
       "\n",
       "// Listen for the removal of the full notebook cells\n",
       "var notebookContainer = gd.closest('#notebook-container');\n",
       "if (notebookContainer) {{\n",
       "    x.observe(notebookContainer, {childList: true});\n",
       "}}\n",
       "\n",
       "// Listen for the clearing of the current output cell\n",
       "var outputEl = gd.closest('.output');\n",
       "if (outputEl) {{\n",
       "    x.observe(outputEl, {childList: true});\n",
       "}}\n",
       "\n",
       "                        })                };                });            </script>        </div>"
      ]
     },
     "metadata": {},
     "output_type": "display_data"
    },
    {
     "name": "stdout",
     "output_type": "stream",
     "text": [
      "Image saved to charts/chemicals_linked_with_absence_of_anti_salmonella_activity.png\n"
     ]
    }
   ],
   "source": [
    "import pandas as pd\n",
    "import plotly.graph_objects as go\n",
    "from plotly.io import write_image\n",
    "\n",
    "# Define the base path and the list of file identifiers\n",
    "base_path = \"features/\"\n",
    "file_ids = [1309, 1574, 383, 1950, 171, 549, 287]\n",
    "\n",
    "# Initialize an empty list to hold the chemical names from all files\n",
    "all_chemical_names = []\n",
    "\n",
    "# Iterate through the list of file identifiers\n",
    "for file_id in file_ids:\n",
    "    # Construct the filename using the corrected pattern\n",
    "    filename = f\"{base_path}Bit_{file_id}_updated.csv\"\n",
    "    \n",
    "    # Read the CSV file\n",
    "    try:\n",
    "        df = pd.read_csv(filename)\n",
    "        \n",
    "        # Extract the 'Chemical_name' column and add it to the list\n",
    "        all_chemical_names.extend(df['Chemical_name'].tolist())\n",
    "    except FileNotFoundError:\n",
    "        print(f\"File not found: {filename}\")\n",
    "    except Exception as e:\n",
    "        print(f\"Error reading file {filename}: {e}\")\n",
    "\n",
    "# Convert the list of chemical names to a DataFrame for easy counting\n",
    "chemical_names_df = pd.DataFrame(all_chemical_names, columns=['Chemical_name'])\n",
    "\n",
    "# Count the occurrences of each chemical name\n",
    "chemical_name_counts = chemical_names_df['Chemical_name'].value_counts()\n",
    "\n",
    "# Exclude the specified chemicals from the counts\n",
    "chemicals_to_exclude = [\"Carvacrol\", \"Perilla aldehyde\", \"alpha-Turmerone\"]\n",
    "chemical_name_counts = chemical_name_counts.drop(labels=chemicals_to_exclude, errors='ignore')\n",
    "\n",
    "# Print the adjusted counts\n",
    "print(chemical_name_counts)\n",
    "\n",
    "# Filter the counts to separate those chemicals present more than 6 times\n",
    "more_than_three = chemical_name_counts[chemical_name_counts > 10]\n",
    "others_count = chemical_name_counts[chemical_name_counts <= 10].sum()\n",
    "\n",
    "# Adding the \"Others\" category\n",
    "if others_count > 0:\n",
    "    more_than_three = more_than_three.append(pd.Series(others_count, index=['Others']))\n",
    "\n",
    "# Convert to DataFrame for Plotly\n",
    "df_more_than_three = more_than_three.reset_index()\n",
    "df_more_than_three.columns = ['Chemical', 'Count']\n",
    "\n",
    "# Define a custom color palette\n",
    "colors = ['#FEBFB3', '#E1396C', '#96D38C', '#D0F9B1', '#FAD0C4', '#FF9F9A', '#FAB0E4']\n",
    "\n",
    "# Creating the pie chart with uniformly separated slices\n",
    "fig = go.Figure(data=[go.Pie(labels=df_more_than_three['Chemical'],\n",
    "                             values=df_more_than_three['Count'],\n",
    "                             pull=0.05,  # Uniformly pull away all slices\n",
    "                             marker_colors=colors,\n",
    "                             textinfo='percent+label',\n",
    "                             outsidetextfont=dict(size=12),  # Ensure outside text is visible\n",
    "                             textposition='outside',  # Place labels outside with lines connecting to slices\n",
    "                             hoverinfo='label+percent',\n",
    "                             insidetextorientation='radial',\n",
    "                            )])\n",
    "\n",
    "# Update the layout with the desired title and font settings\n",
    "fig.update_layout(\n",
    "    font=dict(family=\"EB Garamond, serif\", size=12, color=\"black\"),\n",
    "    title=dict(text='Distribution of chemicals contributing to the random forest algorithm’s classification <br> of essential oils as inactive against <i>Salmonella Typhimurium</i>',\n",
    "               x=0.5,\n",
    "               font=dict(family=\"EB Garamond, serif\", size=12, color=\"black\")),\n",
    "    legend_title_font=dict(family=\"EB Garamond, serif\", size=12, color=\"black\"),\n",
    "    legend_font=dict(family=\"EB Garamond, serif\", size=12, color=\"black\"),\n",
    "    legend=dict(orientation=\"v\", yanchor=\"bottom\", y=0.5, xanchor=\"right\", x=1.5)  # Adjusted for better layout\n",
    ")\n",
    "\n",
    "# Show the figure\n",
    "fig.show()\n",
    "\n",
    "file_path = \"charts/chemicals_linked_with_absence_of_anti_salmonella_activity.png\"\n",
    "fig.write_image(file_path, scale=3)\n",
    "\n",
    "print(f\"Image saved to {file_path}\")\n"
   ]
  },
  {
   "cell_type": "markdown",
   "id": "b56c72e0",
   "metadata": {},
   "source": [
    "Visualizing  Distribution of chemicals having mixed impact on model predictions of anti-<i>Salmonella Typhimurium</i> activity of essential oils"
   ]
  },
  {
   "cell_type": "code",
   "execution_count": null,
   "id": "3b19fdb1",
   "metadata": {},
   "outputs": [],
   "source": []
  },
  {
   "cell_type": "code",
   "execution_count": null,
   "id": "a1da5a24",
   "metadata": {},
   "outputs": [],
   "source": []
  },
  {
   "cell_type": "code",
   "execution_count": null,
   "id": "75f10446",
   "metadata": {},
   "outputs": [],
   "source": []
  },
  {
   "cell_type": "code",
   "execution_count": 4,
   "id": "5f7c941f",
   "metadata": {},
   "outputs": [
    {
     "name": "stdout",
     "output_type": "stream",
     "text": [
      "Bits set to 1: [80, 222, 294, 807, 1057, 1410]\n"
     ]
    },
    {
     "data": {
      "image/png": "[encoded data removed]",
      "text/plain": [
       "<IPython.core.display.Image object>"
      ]
     },
     "execution_count": 4,
     "metadata": {},
     "output_type": "execute_result"
    }
   ],
   "source": [
    "from rdkit import Chem\n",
    "from rdkit.Chem import Draw\n",
    "from rdkit.Chem import AllChem\n",
    "\n",
    "# Generate the 2048 bit Morgan fingerprint for the molecule if not already done\n",
    "molecule = Chem.MolFromSmiles('CCO')\n",
    "fp = AllChem.GetMorganFingerprintAsBitVect(molecule, radius=2, nBits=2048)\n",
    "\n",
    "# Get bit info for all bits set to 1\n",
    "bitInfo = {}\n",
    "fp = AllChem.GetMorganFingerprintAsBitVect(molecule, radius=2, nBits=2048, bitInfo=bitInfo)\n",
    "\n",
    "# Function to find substructures corresponding to a given bit and return SMILES\n",
    "def substructures_for_bit(mol, bit, bitInfo):\n",
    "    substructures = []\n",
    "    if bit in bitInfo:\n",
    "        for atom_idx, radius in bitInfo[bit]:\n",
    "            env = Chem.FindAtomEnvironmentOfRadiusN(mol, radius, atom_idx)\n",
    "            submol = Chem.PathToSubmol(mol, env)\n",
    "            substructures.append(Chem.MolToSmiles(submol, canonical=True))\n",
    "    return substructures\n",
    "\n",
    "# List of bit indexes that are set to 1\n",
    "onBits = list(fp.GetOnBits())\n",
    "print(f\"Bits set to 1: {onBits}\")\n",
    "\n",
    "# Prepare tuples for drawing, including the bit info this time\n",
    "tpls = [(molecule, bit, bitInfo) for bit in onBits]\n",
    "\n",
    "# Legends for each bit including the SMILES of the hashed substructure\n",
    "legends = [f\"Bit {bit}: {'; '.join(substructures_for_bit(molecule, bit, bitInfo))}\" for bit in onBits]\n",
    "\n",
    "# Draw the on-bits\n",
    "img = Draw.DrawMorganBits(tpls, molsPerRow=4, subImgSize=(150, 150), legends=legends)\n",
    "\n",
    "# Save the image to a file\n",
    "img.save('morgan_bits_on_with_smiles.png')\n",
    "\n",
    "# Display the image (this works in Jupyter Notebook)\n",
    "from IPython.display import Image\n",
    "Image(filename='morgan_bits_on_with_smiles.png')\n",
    "\n",
    "\n"
   ]
  },
  {
   "cell_type": "code",
   "execution_count": null,
   "id": "bd5e1381",
   "metadata": {},
   "outputs": [],
   "source": []
  },
  {
   "cell_type": "code",
   "execution_count": null,
   "id": "8d27f823",
   "metadata": {},
   "outputs": [],
   "source": []
  },
  {
   "cell_type": "code",
   "execution_count": null,
   "id": "8c89c745",
   "metadata": {},
   "outputs": [],
   "source": []
  },
  {
   "cell_type": "code",
   "execution_count": null,
   "id": "43b3f59a",
   "metadata": {},
   "outputs": [],
   "source": []
  },
  {
   "cell_type": "code",
   "execution_count": null,
   "id": "a6678277",
   "metadata": {},
   "outputs": [],
   "source": []
  },
  {
   "cell_type": "code",
   "execution_count": 103,
   "id": "7574b28d",
   "metadata": {},
   "outputs": [
    {
     "name": "stdout",
     "output_type": "stream",
     "text": [
      "Conversion complete.\n"
     ]
    }
   ],
   "source": [
    "import subprocess\n",
    "import os\n",
    "\n",
    "# Define the source and target directories\n",
    "source_dir = \"/Users/mariiakokina/Documents/eo_database/SOM/visualizations\"\n",
    "target_dir = source_dir  # Assuming you want to save the PNG files in the same directory\n",
    "\n",
    "# List all SVG files in the source directory\n",
    "svg_files = [f for f in os.listdir(source_dir) if f.endswith('.svg')]\n",
    "\n",
    "# Convert each SVG file to PNG using Inkscape\n",
    "for svg_file in svg_files:\n",
    "    source_path = os.path.join(source_dir, svg_file)\n",
    "    target_path = os.path.join(target_dir, svg_file.replace('.svg', '.png'))\n",
    "    \n",
    "    # Construct the Inkscape command for conversion\n",
    "    # Adding --export-dpi=300 for the DPI setting\n",
    "    # Inkscape 1.0 and later versions handle transparency by default for PNG exports\n",
    "    command = [\n",
    "        '/Applications/Inkscape.app/Contents/MacOS/inkscape', \n",
    "        source_path, \n",
    "        '--export-dpi=300', \n",
    "        '--export-type=png', \n",
    "        '--export-filename', \n",
    "        target_path\n",
    "    ]\n",
    "    \n",
    "    # Execute the command\n",
    "    subprocess.run(command)\n",
    "\n",
    "print(\"Conversion complete.\")\n",
    "\n",
    "\n"
   ]
  },
  {
   "cell_type": "code",
   "execution_count": 110,
   "id": "d757c545",
   "metadata": {},
   "outputs": [
    {
     "name": "stdout",
     "output_type": "stream",
     "text": [
      "https://www.doi.org/10.3390/f10111042\n",
      "https://www.doi.org/10.3390/medicines4020030\n",
      "https://www.doi.org/10.3389/fvets.2023.1188752\n",
      "https://www.doi.org/10.3390/molecules191220034\n",
      "https://www.doi.org/10.3390/molecules191220034\n",
      "https://www.doi.org/10.3390/molecules24050900\n",
      "https://www.doi.org/10.5281/zenodo.159101\n",
      "https://www.doi.org/10.1007/s10722-013-0010-4\n",
      "https://www.doi.org/10.1590/S0102-695X2013000600002\n",
      "https://www.doi.org/10.1177/1934578X20915034\n",
      "https://www.doi.org/10.4103/0975-7406.199342\n",
      "https://www.doi.org/10.1111/1750-3841.12052\n",
      "https://www.doi.org/10.4315/0362-028X-69.9.2274\n",
      "https://www.doi.org/10.21010/ajtcam.v14i3.8\n",
      "https://www.doi.org/10.3390/antibiotics10101191\n",
      "https://www.doi.org/10.1080/13880200802055917\n",
      "https://www.doi.org/10.1186/s12941-020-00371-1\n",
      "https://www.doi.org/10.3390/antibiotics12020254\n",
      "https://www.doi.org/10.1111/lam.13610. Epub 2021 Dec 1.\n",
      "https://www.doi.org/10.3389/fvets.2023.1188752\n",
      "https://www.doi.org/10.1007/s10068-017-0241-9\n",
      "https://www.doi.org/10.3390/ijms19071966\n",
      "https://www.doi.org/10.3390/foods12010203\n",
      "https://www.doi.org/10.3390/molecules26113412\n",
      "https://www.doi.org/10.3390/coatings12101492\n",
      "https://www.doi.org/10.1016/j.lwt.2017.05.036\n",
      "https://www.doi.org/DOi:10.1111/j.1365-2621.2011.02640.x\n",
      "https://www.doi.org/10.3390/molecules26113412\n",
      "https://www.doi.org/10.3390/molecules26113412\n",
      "https://www.doi.org/10.1155/2012/457150\n",
      "https://www.doi.org/10.1016/j.foodcont.2005.11.009\n",
      "https://www.doi.org/10.1111/j.1600-0463.2005.apm1130101.x\n",
      "https://www.doi.org/10.1016/j.foodcont.2005.11.009\n",
      "https://www.doi.org/10.22037/afb.v1i1.7134\n",
      "https://www.doi.org/10.3389/fvets.2023.1188752\n",
      "https://www.doi.org/10.3390/molecules24050900\n",
      "https://www.doi.org/10.3390/antibiotics10101191\n",
      "https://www.doi.org/10.1016/j.foodcont.2005.11.009\n",
      "https://www.doi.org/10.1080/13880200802055917\n",
      "https://www.doi.org/10.1155/2016/9045196\n",
      "https://www.doi.org/10.3390/plants11070941\n",
      "https://www.doi.org/10.3390/molecules25092021\n",
      "https://www.doi.org/10.3389/fmicb.2021.620227\n",
      "https://www.doi.org/10.1590/1413-7054201943006819\n",
      "https://www.doi.org/10.5812/jjnpp.65050\n",
      "https://www.doi.org/10.3390/coatings12101492\n",
      "https://www.doi.org/10.1016/j.foodcont.2005.11.009\n",
      "https://www.doi.org/10.1186/s12941-020-00371-1\n",
      "https://www.doi.org/10.2174/1874944501508010030\n",
      "https://www.doi.org/10.3390/plants10061089\n",
      "https://www.doi.org/10.3390/coatings12101492\n",
      "https://www.doi.org/10.1002/fsn3.116\n",
      "https://www.doi.org/10.3390/foods5020028\n",
      "https://www.doi.org/10.3390/coatings12101492\n",
      "https://www.doi.org/10.1080/14786419.2019.1569006\n",
      "https://www.doi.org/10.3389/fvets.2023.1188752\n",
      "https://www.doi.org/10.3390/antibiotics10101191\n",
      "https://www.doi.org/10.3390/molecules23010123\n",
      "https://www.doi.org/10.3390/pathogens12101245\n",
      "https://www.doi.org/10.1080/14786419.2018.1557177\n",
      "https://www.doi.org/10.1155/2015/905063\n",
      "https://www.doi.org/10.1155/2016/3694901\n",
      "https://www.doi.org/10.1007/s13197-020-04816-5\n",
      "https://www.doi.org/10.1177/1934578X19878904\n",
      "https://www.doi.org/10.3390/foods12213938\n",
      "https://www.doi.org/10.1016/j.indcrop.2016.07.005\n",
      "https://www.doi.org/10.3390/molecules24050900\n",
      "https://www.doi.org/10.1155/2015/916305\n",
      "https://www.doi.org/10.1155/2022/7990508\n",
      "https://www.doi.org/10.3389/fvets.2023.1188752\n",
      "https://www.doi.org/10.3923/ijp.2009.98.100\n",
      "https://www.doi.org/10.1016/0378-8741(91)90047-h\n",
      "https://www.doi.org/10.1016/j.foodchem.2021.129940\n",
      "https://www.doi.org/10.1016/j.micpath.2018.03.041\n",
      "https://www.doi.org/10.21203/rs.3.rs-3164788/v1\n",
      "https://www.doi.org/10.1016/j.foodchem.2007.05.050\n",
      "https://www.doi.org/10.1016/j.foodcont.2009.07.016\n",
      "https://www.doi.org/10.4103/japtr.japtr_106_21\n",
      "https://www.doi.org/10.1111/j.1600-0463.2005.apm1130101.x\n",
      "https://www.doi.org/10.3389/fvets.2023.1188752\n",
      "https://www.doi.org/10.3389/fvets.2023.1188752\n",
      "https://www.doi.org/10.1016/j.foodcont.2005.11.009\n",
      "https://www.doi.org/10.5897/JMPR2017.6435\n",
      "https://www.doi.org/10.1016/j.foodchem.2019.02.103\n",
      "https://www.doi.org/10.1016/s2222-1808(14)60323-6\n",
      "https://www.doi.org/10.1504/ijewm.2013.055590\n",
      "https://www.doi.org/10.1504/ijewm.2013.055590\n",
      "https://www.doi.org/10.1504/ijewm.2013.055590\n",
      "https://www.doi.org/10.12982/VIS.2022.042\n",
      "https://www.doi.org/10.3389/fvets.2023.1188752\n",
      "https://www.doi.org/10.1155/2013/746165\n",
      "https://www.doi.org/10.25141/2471-7371-2015-1.0001\n",
      "https://www.doi.org/10.3389/fvets.2023.1188752\n",
      "https://www.doi.org/10.1016/J.LWT.2017.05.075\n",
      "https://www.doi.org/10.1007/s13197-017-2905-0\n",
      "https://www.doi.org/10.1016/j.meatsci.2011.11.026\n",
      "https://www.doi.org/10.1002/fsn3.116\n",
      "https://www.doi.org/10.1016/j.foodcont.2005.11.009\n",
      "https://www.doi.org/10.1016/j.foodcont.2005.11.009\n",
      "https://www.doi.org/10.1080/14786410310001608145\n",
      "https://www.doi.org/10.22037/afb.v1i1.7134\n",
      "https://www.doi.org/10.1186/s12941-020-00371-1\n",
      "https://www.doi.org/10.3390/antibiotics10101191\n",
      "https://www.doi.org/10.4103/0973-1296.66944\n",
      "https://www.doi.org/10.1111/j.1600-0463.2005.apm1130101.x\n",
      "https://www.doi.org/10.3390/molecules26020307\n",
      "https://www.doi.org/10.1007/BF02973874\n",
      "https://www.doi.org/10.3390/medicines3030019\n",
      "https://www.doi.org/10.3390/molecules28124803\n",
      "https://www.doi.org/10.1016/j.foodcont.2005.11.009\n",
      "https://www.doi.org/10.1016/j.foodcont.2005.11.009\n",
      "https://www.doi.org/10.1016/j.foodcont.2005.11.009\n",
      "https://www.doi.org/10.1111/j.1600-0463.2005.apm1130101.x\n",
      "https://www.doi.org/10.3390/molecules19010713\n",
      "https://www.doi.org/10.3390/coatings12101492\n",
      "https://www.doi.org/10.1016/j.foodres.2008.07.018\n"
     ]
    }
   ],
   "source": [
    "import pandas as pd\n",
    "\n",
    "def extract_dois_from_csv(csv_path):\n",
    "    # Load the CSV file\n",
    "    data = pd.read_csv(csv_path)\n",
    "    \n",
    "    # Check if 'Reference' column exists\n",
    "    if 'Reference' not in data.columns:\n",
    "        print(\"The column 'Reference' was not found in the CSV file.\")\n",
    "        return\n",
    "    \n",
    "    # Filter out rows where 'Reference' is 'No Reference' or empty and remove 'DOI:' prefix\n",
    "    filtered_references = data['Reference'].dropna()\n",
    "    filtered_references = filtered_references[filtered_references != 'No Reference']\n",
    "    filtered_references = filtered_references.str.replace('DOI:', '').str.strip()\n",
    "    \n",
    "    # Prepend 'https://www.doi.org/' to each DOI\n",
    "    doi_urls = ['https://www.doi.org/' + doi for doi in filtered_references]\n",
    "    \n",
    "    return doi_urls\n",
    "\n",
    "# Example usage:\n",
    "# Replace 'path_to_your_csv_file.csv' with the actual path to your CSV file\n",
    "doi_list = extract_dois_from_csv('aggregated_plants.csv')\n",
    "for doi in doi_list:\n",
    "    print(doi)\n"
   ]
  },
  {
   "cell_type": "code",
   "execution_count": null,
   "id": "d666f8c0",
   "metadata": {},
   "outputs": [],
   "source": []
  }
 ],
 "metadata": {
  "kernelspec": {
   "display_name": "Python 3 (ipykernel)",
   "language": "python",
   "name": "python3"
  },
  "language_info": {
   "codemirror_mode": {
    "name": "ipython",
    "version": 3
   },
   "file_extension": ".py",
   "mimetype": "text/x-python",
   "name": "python",
   "nbconvert_exporter": "python",
   "pygments_lexer": "ipython3",
   "version": "3.9.17"
  }
 },
 "nbformat": 4,
 "nbformat_minor": 5
}
